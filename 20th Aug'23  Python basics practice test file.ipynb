{
 "cells": [
  {
   "cell_type": "markdown",
   "id": "812ed4b7-0552-4ba9-a88b-1d5dbf980c39",
   "metadata": {},
   "source": [
    "TOPIC: String Based Assignment Problem"
   ]
  },
  {
   "cell_type": "code",
   "execution_count": 1,
   "id": "4fc7347a-73e1-4944-8b17-ec9bfb0118aa",
   "metadata": {},
   "outputs": [
    {
     "name": "stdin",
     "output_type": "stream",
     "text": [
      "Enter a string:  suyash\n"
     ]
    },
    {
     "name": "stdout",
     "output_type": "stream",
     "text": [
      "Reversed string: hsayus\n"
     ]
    }
   ],
   "source": [
    "#1.Write a program to reverse a string.\n",
    "# Get user input\n",
    "user_input = input(\"Enter a string: \")\n",
    "\n",
    "# Reverse the string using slicing\n",
    "reversed_input = user_input[::-1]\n",
    "\n",
    "# Print the reversed string\n",
    "print(\"Reversed string:\", reversed_input)\n"
   ]
  },
  {
   "cell_type": "code",
   "execution_count": 3,
   "id": "df2d1d1f-ebc2-44e7-b48a-99024d3beefc",
   "metadata": {},
   "outputs": [
    {
     "name": "stdin",
     "output_type": "stream",
     "text": [
      "Enter a string:  missim\n"
     ]
    },
    {
     "name": "stdout",
     "output_type": "stream",
     "text": [
      "The input string is a palindrome.\n"
     ]
    }
   ],
   "source": [
    "#2.Check if a string is a palindrome.\n",
    "# Taking input string from the user\n",
    "input_string = input(\"Enter a string: \")\n",
    "\n",
    "# Reversing the string\n",
    "reversed_string = input_string[::-1]\n",
    "\n",
    "# Checking if the reversed string is equal to the original input string\n",
    "if input_string == reversed_string:\n",
    "    print(\"The input string is a palindrome.\")\n",
    "else:\n",
    "    print(\"The input string is not a palindrome.\")"
   ]
  },
  {
   "cell_type": "code",
   "execution_count": 4,
   "id": "84e765b5-904d-49e2-b1be-933b64ef1829",
   "metadata": {},
   "outputs": [
    {
     "name": "stdin",
     "output_type": "stream",
     "text": [
      "Enter a string:  suyash\n"
     ]
    },
    {
     "name": "stdout",
     "output_type": "stream",
     "text": [
      "Uppercase string: SUYASH\n"
     ]
    }
   ],
   "source": [
    "#3.Convert a string to uppercase.\n",
    "# Get user input\n",
    "user_input = input(\"Enter a string: \")\n",
    "\n",
    "# Convert the input string to uppercase\n",
    "uppercase_input = user_input.upper()\n",
    "\n",
    "# Print the uppercase string\n",
    "print(\"Uppercase string:\", uppercase_input)\n"
   ]
  },
  {
   "cell_type": "code",
   "execution_count": 5,
   "id": "a8bbb0a7-2284-40e9-8c8b-59466cf4ae98",
   "metadata": {},
   "outputs": [
    {
     "name": "stdin",
     "output_type": "stream",
     "text": [
      "Enter a string:  SUYASH\n"
     ]
    },
    {
     "name": "stdout",
     "output_type": "stream",
     "text": [
      "lowercase string: suyash\n"
     ]
    }
   ],
   "source": [
    "#4.Convert a string to lowercase.\n",
    "\n",
    "# Get user input\n",
    "user_input = input(\"Enter a string: \")\n",
    "\n",
    "# Convert the input string to uppercase\n",
    "lowercase_input = user_input.lower()\n",
    "\n",
    "# Print the uppercase string\n",
    "print(\"lowercase string:\", lowercase_input)"
   ]
  },
  {
   "cell_type": "code",
   "execution_count": 6,
   "id": "685a8dff-66da-4be5-b00d-ef92359e1148",
   "metadata": {},
   "outputs": [
    {
     "name": "stdin",
     "output_type": "stream",
     "text": [
      "Enter a string:  suyash\n"
     ]
    },
    {
     "name": "stdout",
     "output_type": "stream",
     "text": [
      "Number of vowels: 2\n"
     ]
    }
   ],
   "source": [
    "#5. Count the number of vowels in a string.\n",
    "\n",
    "# Get user input\n",
    "user_input = input(\"Enter a string: \")\n",
    "\n",
    "# Define a set of vowels\n",
    "vowels = \"aeiouAEIOU\"\n",
    "\n",
    "# Count the number of vowels in the input string\n",
    "vowel_count = sum(1 for char in user_input if char in vowels)\n",
    "\n",
    "# Print the vowel count\n",
    "print(\"Number of vowels:\", vowel_count)\n"
   ]
  },
  {
   "cell_type": "code",
   "execution_count": 7,
   "id": "6dbcc7b1-3899-4ef5-ba14-797161818981",
   "metadata": {},
   "outputs": [
    {
     "name": "stdin",
     "output_type": "stream",
     "text": [
      "Enter a string:  suyash\n"
     ]
    },
    {
     "name": "stdout",
     "output_type": "stream",
     "text": [
      "Number of consonants: 4\n"
     ]
    }
   ],
   "source": [
    "#6. Count the number of consonants in a string.\n",
    "\n",
    "# Get user input\n",
    "user_input = input(\"Enter a string: \")\n",
    "\n",
    "# Define a set of consonants\n",
    "consonants = \"bcdfghjklmnpqrstvwxyzBCDFGHJKLMNPQRSTVWXYZ\"\n",
    "\n",
    "# Count the number of consonants in the input string\n",
    "consonant_count = sum(1 for char in user_input if char in consonants)\n",
    "\n",
    "# Print the consonant count\n",
    "print(\"Number of consonants:\", consonant_count)\n"
   ]
  },
  {
   "cell_type": "code",
   "execution_count": 8,
   "id": "8f669465-ddb5-4ad9-a29c-ebfeda665e96",
   "metadata": {},
   "outputs": [
    {
     "name": "stdin",
     "output_type": "stream",
     "text": [
      "Enter a string:  game of thrones\n"
     ]
    },
    {
     "name": "stdout",
     "output_type": "stream",
     "text": [
      "String without whitespaces: gameofthrones\n"
     ]
    }
   ],
   "source": [
    "# 7. Remove all whitespaces from a string.\n",
    "\n",
    "# Get user input\n",
    "user_input = input(\"Enter a string: \")\n",
    "\n",
    "# Remove whitespaces from the input string using the replace() method\n",
    "no_whitespace_input = user_input.replace(\" \", \"\")\n",
    "\n",
    "# Print the string without whitespaces\n",
    "print(\"String without whitespaces:\", no_whitespace_input)\n",
    "\n"
   ]
  },
  {
   "cell_type": "code",
   "execution_count": 9,
   "id": "fc22091b-1266-4dc1-b4cc-0314787f86f6",
   "metadata": {},
   "outputs": [
    {
     "name": "stdin",
     "output_type": "stream",
     "text": [
      "Enter a string:  suyash\n"
     ]
    },
    {
     "name": "stdout",
     "output_type": "stream",
     "text": [
      "Length of the string: 6\n"
     ]
    }
   ],
   "source": [
    "#8. Find the length of a string without using the `len()` function.\n",
    "\n",
    "# Get user input\n",
    "user_input = input(\"Enter a string: \")\n",
    "\n",
    "# Initialize a count variable\n",
    "count = 0\n",
    "\n",
    "# Iterate through the characters of the string\n",
    "for char in user_input:\n",
    "    count += 1\n",
    "\n",
    "# Print the length of the string\n",
    "print(\"Length of the string:\", count)\n"
   ]
  },
  {
   "cell_type": "code",
   "execution_count": 10,
   "id": "47e5c6c2-750c-4c4d-bf67-68e1bd9c7dfd",
   "metadata": {},
   "outputs": [
    {
     "name": "stdin",
     "output_type": "stream",
     "text": [
      "Enter a string:  suyash\n",
      "Enter the word to check:  s\n"
     ]
    },
    {
     "name": "stdout",
     "output_type": "stream",
     "text": [
      "The string contains the word.\n"
     ]
    }
   ],
   "source": [
    "#9. Check if a string contains a specific word.\n",
    "\n",
    "# Get user input for the string and the word to check\n",
    "user_input = input(\"Enter a string: \")\n",
    "word_to_check = input(\"Enter the word to check: \")\n",
    "\n",
    "# Check if the word is present in the input string\n",
    "if word_to_check in user_input:\n",
    "    print(\"The string contains the word.\")\n",
    "else:\n",
    "    print(\"The string does not contain the word.\")\n"
   ]
  },
  {
   "cell_type": "code",
   "execution_count": 11,
   "id": "2439c42c-f792-4644-a95c-f9d0253a7233",
   "metadata": {},
   "outputs": [
    {
     "name": "stdin",
     "output_type": "stream",
     "text": [
      "Enter a string:  suyash\n",
      "Enter the word to replace:  s\n",
      "Enter the replacement word:  a\n"
     ]
    },
    {
     "name": "stdout",
     "output_type": "stream",
     "text": [
      "Modified string: auyaah\n"
     ]
    }
   ],
   "source": [
    "#10. Replace a word in a string with another word.\n",
    "\n",
    "# Get user input for the string, the word to replace, and the replacement word\n",
    "user_input = input(\"Enter a string: \")\n",
    "word_to_replace = input(\"Enter the word to replace: \")\n",
    "replacement_word = input(\"Enter the replacement word: \")\n",
    "\n",
    "# Replace the specified word with the replacement word\n",
    "modified_string = user_input.replace(word_to_replace, replacement_word)\n",
    "\n",
    "# Print the modified string\n",
    "print(\"Modified string:\", modified_string)\n"
   ]
  },
  {
   "cell_type": "code",
   "execution_count": 12,
   "id": "978b1bc0-7558-4a72-9496-42d40de8ff1b",
   "metadata": {},
   "outputs": [
    {
     "name": "stdin",
     "output_type": "stream",
     "text": [
      "Enter a string:  suyaash\n",
      "Enter the word to count:  aa\n"
     ]
    },
    {
     "name": "stdout",
     "output_type": "stream",
     "text": [
      "Occurrences of the word: 1\n"
     ]
    }
   ],
   "source": [
    "#11. Count the occurrences of a word in a string.\n",
    "\n",
    "# Get user input for the string and the word to count\n",
    "user_input = input(\"Enter a string: \")\n",
    "word_to_count = input(\"Enter the word to count: \")\n",
    "\n",
    "# Count the occurrences of the word in the input string\n",
    "word_count = user_input.count(word_to_count)\n",
    "\n",
    "# Print the count of occurrences\n",
    "print(\"Occurrences of the word:\", word_count)\n"
   ]
  },
  {
   "cell_type": "code",
   "execution_count": 17,
   "id": "9adc5805-3896-4820-a649-846d5e42cd7e",
   "metadata": {},
   "outputs": [
    {
     "name": "stdin",
     "output_type": "stream",
     "text": [
      "Enter a string:  suyash\n",
      "Enter the word to find:  u\n"
     ]
    },
    {
     "name": "stdout",
     "output_type": "stream",
     "text": [
      "First occurrence of the word: 1\n"
     ]
    }
   ],
   "source": [
    "#12. Find the first occurrence of a word in a string.\n",
    "\n",
    "# Get user input for the string and the word to find\n",
    "user_input = input(\"Enter a string: \")\n",
    "word_to_find = input(\"Enter the word to find: \")\n",
    "\n",
    "# Find the index of the first occurrence of the word\n",
    "index = user_input.find(word_to_find)\n",
    "\n",
    "if index != -1:\n",
    "    print(\"First occurrence of the word:\", index)\n",
    "else:\n",
    "    print(\"The word was not found in the string.\")\n"
   ]
  },
  {
   "cell_type": "code",
   "execution_count": 18,
   "id": "bf84459a-f118-4cc5-9f2a-b17022cebf25",
   "metadata": {},
   "outputs": [
    {
     "name": "stdin",
     "output_type": "stream",
     "text": [
      "Enter a string:  suyash\n",
      "Enter the word to find:  y\n"
     ]
    },
    {
     "name": "stdout",
     "output_type": "stream",
     "text": [
      "Last occurrence of the word: 2\n"
     ]
    }
   ],
   "source": [
    "#13. Find the last occurrence of a word in a string.\n",
    "\n",
    "# Get user input for the string and the word to find\n",
    "user_input = input(\"Enter a string: \")\n",
    "word_to_find = input(\"Enter the word to find: \")\n",
    "\n",
    "# Find the index of the last occurrence of the word\n",
    "index = user_input.rfind(word_to_find)\n",
    "\n",
    "if index != -1:\n",
    "    print(\"Last occurrence of the word:\", index)\n",
    "else:\n",
    "    print(\"The word was not found in the string.\")\n"
   ]
  },
  {
   "cell_type": "code",
   "execution_count": 19,
   "id": "c5803c43-fe5d-4790-9df2-0107ca1e9a9e",
   "metadata": {},
   "outputs": [
    {
     "name": "stdin",
     "output_type": "stream",
     "text": [
      "Enter a string:  auygtAJH\n"
     ]
    },
    {
     "name": "stdout",
     "output_type": "stream",
     "text": [
      "List of words: ['auygtAJH']\n"
     ]
    }
   ],
   "source": [
    "#14. Split a string into a list of words.\n",
    "\n",
    "# Get user input for the string\n",
    "user_input = input(\"Enter a string: \")\n",
    "\n",
    "# Split the input string into a list of words using the split() method\n",
    "word_list = user_input.split()\n",
    "\n",
    "# Print the list of words\n",
    "print(\"List of words:\", word_list)\n"
   ]
  },
  {
   "cell_type": "code",
   "execution_count": 23,
   "id": "d313408a-6e20-4ba3-bf74-39aac4df2b44",
   "metadata": {},
   "outputs": [
    {
     "name": "stdin",
     "output_type": "stream",
     "text": [
      "Enter a list of words separated by spaces:  suyash kumae pandey\n"
     ]
    },
    {
     "name": "stdout",
     "output_type": "stream",
     "text": [
      "Joined string: suyash kumae pandey\n"
     ]
    }
   ],
   "source": [
    "#15. Join a list of words into a string.\n",
    "\n",
    "# Get user input for the list of words\n",
    "word_list = input(\"Enter a list of words separated by spaces: \").split()\n",
    "\n",
    "# Join the list of words into a single string using the join() method\n",
    "joined_string = ' '.join(word_list)\n",
    "\n",
    "# Print the joined string\n",
    "print(\"Joined string:\", joined_string)\n"
   ]
  },
  {
   "cell_type": "code",
   "execution_count": 24,
   "id": "220067ab-e895-4174-a729-93ff7e28b523",
   "metadata": {},
   "outputs": [
    {
     "name": "stdin",
     "output_type": "stream",
     "text": [
      "Enter a string with spaces between words:  s u y a s h\n"
     ]
    },
    {
     "name": "stdout",
     "output_type": "stream",
     "text": [
      "Converted string: s_u_y_a_s_h\n"
     ]
    }
   ],
   "source": [
    "#16. Convert a string where words are separated by spaces to one where wordsare separated by underscores.\n",
    "# Get user input for the string\n",
    "user_input = input(\"Enter a string with spaces between words: \")\n",
    "\n",
    "# Replace spaces with underscores using the replace() method\n",
    "converted_string = user_input.replace(\" \", \"_\")\n",
    "\n",
    "# Print the converted string\n",
    "print(\"Converted string:\", converted_string)\n"
   ]
  },
  {
   "cell_type": "code",
   "execution_count": 25,
   "id": "9c0d9241-c817-46b8-87c1-89d156adc390",
   "metadata": {},
   "outputs": [
    {
     "name": "stdin",
     "output_type": "stream",
     "text": [
      "Enter a string:  suyash kumar pandey\n",
      "Enter the word or phrase to check:  suyash\n"
     ]
    },
    {
     "name": "stdout",
     "output_type": "stream",
     "text": [
      "The string starts with the specified word or phrase.\n"
     ]
    }
   ],
   "source": [
    "#17. Check if a string starts with a specific word or phrase.\n",
    "\n",
    "# Get user input for the string and the word/phrase to check\n",
    "user_input = input(\"Enter a string: \")\n",
    "word_to_check = input(\"Enter the word or phrase to check: \")\n",
    "\n",
    "# Check if the string starts with the specified word/phrase\n",
    "if user_input.startswith(word_to_check):\n",
    "    print(\"The string starts with the specified word or phrase.\")\n",
    "else:\n",
    "    print(\"The string does not start with the specified word or phrase.\")\n",
    "\n"
   ]
  },
  {
   "cell_type": "code",
   "execution_count": 1,
   "id": "42083f0c-8da0-423e-9b21-134382444f4c",
   "metadata": {},
   "outputs": [
    {
     "name": "stdin",
     "output_type": "stream",
     "text": [
      "Enter a string:  syyagtsydg\n",
      "Enter the word or phrase to check:  s\n"
     ]
    },
    {
     "name": "stdout",
     "output_type": "stream",
     "text": [
      "The string does not start with the specified word or phrase.\n"
     ]
    }
   ],
   "source": [
    "#18.Check if a string ends with a specific word or phrase.\n",
    "\n",
    "# Get user input for the string and the word/phrase to check\n",
    "user_input = input(\"Enter a string: \")\n",
    "word_to_check = input(\"Enter the word or phrase to check: \")\n",
    "\n",
    "# Check if the string starts with the specified word/phrase\n",
    "if user_input.endswith(word_to_check):\n",
    "    print(\"The string starts with the specified word or phrase.\")\n",
    "else:\n",
    "    print(\"The string does not start with the specified word or phrase.\")\n",
    "    "
   ]
  },
  {
   "cell_type": "code",
   "execution_count": 2,
   "id": "53687621-507f-4e77-9a95-71f0f154f0a6",
   "metadata": {},
   "outputs": [
    {
     "name": "stdin",
     "output_type": "stream",
     "text": [
      "Enter a string:  hello world\n"
     ]
    },
    {
     "name": "stdout",
     "output_type": "stream",
     "text": [
      "Title case string: Hello World\n"
     ]
    }
   ],
   "source": [
    "#19. Convert a string to title case (e.g., \"hello world\" to \"Hello World\").\n",
    "\n",
    "# Get user input for the string\n",
    "user_input = input(\"Enter a string: \")\n",
    "\n",
    "# Convert the input string to title case using the title() method\n",
    "title_case_string = user_input.title()\n",
    "\n",
    "# Print the title case string\n",
    "print(\"Title case string:\", title_case_string)\n"
   ]
  },
  {
   "cell_type": "code",
   "execution_count": 4,
   "id": "378007d1-b63e-4eae-8e82-a4a7fc7bbf9d",
   "metadata": {},
   "outputs": [
    {
     "name": "stdin",
     "output_type": "stream",
     "text": [
      "Enter a string:  suuuuuyash kumar pandey\n"
     ]
    },
    {
     "name": "stdout",
     "output_type": "stream",
     "text": [
      "Longest word: suuuuuyash\n"
     ]
    }
   ],
   "source": [
    "#20. Find the longest word in a string.\n",
    "\n",
    "# Get user input for the string\n",
    "user_input = input(\"Enter a string: \")\n",
    "\n",
    "# Split the input string into words using spaces\n",
    "words = user_input.split()\n",
    "\n",
    "# Find the longest word using the max() function and len() as the key\n",
    "longest_word = max(words, key=len)\n",
    "\n",
    "# Print the longest word\n",
    "print(\"Longest word:\", longest_word)\n"
   ]
  },
  {
   "cell_type": "code",
   "execution_count": 6,
   "id": "a392b916-fb3e-4a63-a20d-14a29f9f9a77",
   "metadata": {},
   "outputs": [
    {
     "name": "stdin",
     "output_type": "stream",
     "text": [
      "Enter a string:  suyash kumar pandey\n"
     ]
    },
    {
     "name": "stdout",
     "output_type": "stream",
     "text": [
      "Shortest word: kumar\n"
     ]
    }
   ],
   "source": [
    "#21. Find the shortest word in a string.\n",
    "\n",
    "# Get user input for the string\n",
    "user_input = input(\"Enter a string: \")\n",
    "\n",
    "# Split the input string into words using spaces\n",
    "words = user_input.split()\n",
    "\n",
    "# Find the shortest word using the min() function and len() as the key\n",
    "shortest_word = min(words, key=len)\n",
    "\n",
    "# Print the shortest word\n",
    "print(\"Shortest word:\", shortest_word)\n"
   ]
  },
  {
   "cell_type": "code",
   "execution_count": 8,
   "id": "f4a605da-3cd5-4692-a3d5-fd591c205d53",
   "metadata": {},
   "outputs": [
    {
     "name": "stdin",
     "output_type": "stream",
     "text": [
      "Enter a string:  suyash kumar pandey\n"
     ]
    },
    {
     "name": "stdout",
     "output_type": "stream",
     "text": [
      "String with reversed word order: pandey kumar suyash\n"
     ]
    }
   ],
   "source": [
    "#22. Reverse the order of words in a string.\n",
    "# Get user input for the string\n",
    "user_input = input(\"Enter a string: \")\n",
    "\n",
    "# Split the input string into words using spaces\n",
    "words = user_input.split()\n",
    "\n",
    "# Reverse the order of words using slicing\n",
    "reversed_words = words[::-1]\n",
    "\n",
    "# Join the reversed words into a single string\n",
    "reversed_string = ' '.join(reversed_words)\n",
    "\n",
    "# Print the string with reversed word order\n",
    "print(\"String with reversed word order:\", reversed_string)\n"
   ]
  },
  {
   "cell_type": "code",
   "execution_count": 11,
   "id": "fac88307-bec0-46c9-b5ff-41d4e594d938",
   "metadata": {},
   "outputs": [
    {
     "name": "stdin",
     "output_type": "stream",
     "text": [
      "Enter a string:  suyawhs\n"
     ]
    },
    {
     "name": "stdout",
     "output_type": "stream",
     "text": [
      "The string is alphanumeric.\n"
     ]
    }
   ],
   "source": [
    "#23. Check if a string is alphanumeric.\n",
    "# Get user input for the string\n",
    "user_input = input(\"Enter a string: \")\n",
    "\n",
    "# Check if the string is alphanumeric using the isalnum() method\n",
    "if user_input.isalnum():\n",
    "    print(\"The string is alphanumeric.\")\n",
    "else:\n",
    "    print(\"The string is not alphanumeric.\")\n"
   ]
  },
  {
   "cell_type": "code",
   "execution_count": 3,
   "id": "dc1af669-a7a3-41f0-8af3-5e3decd91ae6",
   "metadata": {},
   "outputs": [
    {
     "name": "stdin",
     "output_type": "stream",
     "text": [
      "Enter a string:  su6737\n"
     ]
    },
    {
     "name": "stdout",
     "output_type": "stream",
     "text": [
      "Extracted digits: 6737\n"
     ]
    }
   ],
   "source": [
    "#24. Extract all digits from a string.\n",
    "\n",
    "# Get user input for the string\n",
    "user_input = input(\"Enter a string: \")\n",
    "\n",
    "# Use a list comprehension to extract digits from the string\n",
    "digits = [char for char in user_input if char.isdigit()]\n",
    "\n",
    "# Join the extracted digits into a single string\n",
    "extracted_digits = ''.join(digits)\n",
    "\n",
    "# Print the extracted digits\n",
    "print(\"Extracted digits:\", extracted_digits)\n"
   ]
  },
  {
   "cell_type": "code",
   "execution_count": 4,
   "id": "fd412f75-fb48-4589-affe-e0d4befb1e0c",
   "metadata": {},
   "outputs": [
    {
     "name": "stdin",
     "output_type": "stream",
     "text": [
      "Enter a string:  syyasy\n"
     ]
    },
    {
     "name": "stdout",
     "output_type": "stream",
     "text": [
      "Extracted alphabets: syyasy\n"
     ]
    }
   ],
   "source": [
    "#25.Extract all alphabets from a string.\n",
    "\n",
    "# Get user input for the string\n",
    "user_input = input(\"Enter a string: \")\n",
    "\n",
    "# Use a list comprehension to extract alphabets from the string\n",
    "alphabets = [char for char in user_input if char.isalpha()]\n",
    "\n",
    "# Join the extracted alphabets into a single string\n",
    "extracted_alphabets = ''.join(alphabets)\n",
    "\n",
    "# Print the extracted alphabets\n",
    "print(\"Extracted alphabets:\", extracted_alphabets)\n",
    "\n"
   ]
  },
  {
   "cell_type": "code",
   "execution_count": 6,
   "id": "f82b43dc-f516-42e0-b373-a4f20fa6b9fb",
   "metadata": {},
   "outputs": [
    {
     "name": "stdin",
     "output_type": "stream",
     "text": [
      "Enter a string:  Suyash\n"
     ]
    },
    {
     "name": "stdout",
     "output_type": "stream",
     "text": [
      "Number of uppercase letters: 1\n"
     ]
    }
   ],
   "source": [
    "#26. Count the number of uppercase letters in a string.\n",
    "\n",
    "# Get user input for the string\n",
    "user_input = input(\"Enter a string: \")\n",
    "\n",
    "# Count the number of uppercase letters using a loop\n",
    "uppercase_count = sum(1 for char in user_input if char.isupper())\n",
    "\n",
    "# Print the count of uppercase letters\n",
    "print(\"Number of uppercase letters:\", uppercase_count)\n"
   ]
  },
  {
   "cell_type": "code",
   "execution_count": 8,
   "id": "3e736104-845c-4cd5-9ae0-7605a4697054",
   "metadata": {},
   "outputs": [
    {
     "name": "stdin",
     "output_type": "stream",
     "text": [
      "Enter a string:  zuysh\n"
     ]
    },
    {
     "name": "stdout",
     "output_type": "stream",
     "text": [
      "Number of lowercase letters: 5\n"
     ]
    }
   ],
   "source": [
    "#27. Count the number of lowercase letters in a string.\n",
    "# Get user input for the string\n",
    "user_input = input(\"Enter a string: \")\n",
    "\n",
    "# Count the number of uppercase letters using a loop\n",
    "lowercase_count = sum(1 for char in user_input if char.islower())\n",
    "\n",
    "# Print the count of uppercase letters\n",
    "print(\"Number of lowercase letters:\", lowercase_count)\n"
   ]
  },
  {
   "cell_type": "code",
   "execution_count": 9,
   "id": "2087bcfa-0ae4-42a3-ae90-67955cd29017",
   "metadata": {},
   "outputs": [
    {
     "name": "stdin",
     "output_type": "stream",
     "text": [
      "Enter a string:  suysah\n"
     ]
    },
    {
     "name": "stdout",
     "output_type": "stream",
     "text": [
      "String with swapped case: SUYSAH\n"
     ]
    }
   ],
   "source": [
    "#28. Swap the case of each character in a string.\n",
    "\n",
    "# Get user input for the string\n",
    "user_input = input(\"Enter a string: \")\n",
    "\n",
    "# Swap the case of each character using the swapcase() method\n",
    "swapped_case_string = user_input.swapcase()\n",
    "\n",
    "# Print the string with swapped case\n",
    "print(\"String with swapped case:\", swapped_case_string)\n"
   ]
  },
  {
   "cell_type": "code",
   "execution_count": 10,
   "id": "97faa4be-ca75-49c6-9c61-84bb4a07ba85",
   "metadata": {},
   "outputs": [
    {
     "name": "stdin",
     "output_type": "stream",
     "text": [
      "Enter a string:  suyahs\n",
      "Enter the word to remove:  s\n"
     ]
    },
    {
     "name": "stdout",
     "output_type": "stream",
     "text": [
      "Modified string: uyah\n"
     ]
    }
   ],
   "source": [
    "#29. Remove a specific word from a string.\n",
    "# Get user input for the string\n",
    "user_input = input(\"Enter a string: \")\n",
    "\n",
    "# Get the word to remove from the user\n",
    "word_to_remove = input(\"Enter the word to remove: \")\n",
    "\n",
    "# Replace the word to remove with an empty string using the replace() method\n",
    "modified_string = user_input.replace(word_to_remove, '')\n",
    "\n",
    "# Print the modified string\n",
    "print(\"Modified string:\", modified_string)\n"
   ]
  },
  {
   "cell_type": "code",
   "execution_count": 11,
   "id": "628038f4-0c98-40bb-a85e-4ca5ca6c3107",
   "metadata": {},
   "outputs": [
    {
     "name": "stdin",
     "output_type": "stream",
     "text": [
      "Enter an email address:  suyashp1994@gmail.com\n"
     ]
    },
    {
     "name": "stdout",
     "output_type": "stream",
     "text": [
      "Valid email address.\n"
     ]
    }
   ],
   "source": [
    "#30. Check if a string is a valid email address.\n",
    "\n",
    "import re\n",
    "\n",
    "# Get user input for the email address\n",
    "email_address = input(\"Enter an email address: \")\n",
    "\n",
    "# Define a regular expression pattern for basic email validation\n",
    "pattern = r\"^[a-zA-Z0-9._%+-]+@[a-zA-Z0-9.-]+\\.[a-zA-Z]{2,}$\"\n",
    "\n",
    "# Use re.match() to check if the email address matches the pattern\n",
    "if re.match(pattern, email_address):\n",
    "    print(\"Valid email address.\")\n",
    "else:\n",
    "    print(\"Invalid email address.\")\n"
   ]
  },
  {
   "cell_type": "code",
   "execution_count": 12,
   "id": "3df95d3c-41d6-40fd-bb6f-aea14e314660",
   "metadata": {},
   "outputs": [
    {
     "name": "stdin",
     "output_type": "stream",
     "text": [
      "Enter an email address:  suyashp1994@gmail.com\n"
     ]
    },
    {
     "name": "stdout",
     "output_type": "stream",
     "text": [
      "Extracted username: suyashp1994\n"
     ]
    }
   ],
   "source": [
    "#31. Extract the username from an email address string.\n",
    "\n",
    "# Get user input for the email address\n",
    "email_address = input(\"Enter an email address: \")\n",
    "\n",
    "# Split the email address at the \"@\" symbol\n",
    "username = email_address.split('@')[0]\n",
    "\n",
    "# Print the extracted username\n",
    "print(\"Extracted username:\", username)\n"
   ]
  },
  {
   "cell_type": "code",
   "execution_count": 13,
   "id": "17e04a1a-1691-427d-8855-b809efb9b892",
   "metadata": {},
   "outputs": [
    {
     "name": "stdin",
     "output_type": "stream",
     "text": [
      "Enter an email address:  suyashp1994@gmail.com\n"
     ]
    },
    {
     "name": "stdout",
     "output_type": "stream",
     "text": [
      "Extracted domain name: gmail.com\n"
     ]
    }
   ],
   "source": [
    "#32. Extract the domain name from an email address string.\n",
    "\n",
    "# Get user input for the email address\n",
    "email_address = input(\"Enter an email address: \")\n",
    "\n",
    "# Split the email address at the \"@\" symbol and get the second part\n",
    "domain_name = email_address.split('@')[1]\n",
    "\n",
    "# Print the extracted domain name\n",
    "print(\"Extracted domain name:\", domain_name)\n"
   ]
  },
  {
   "cell_type": "code",
   "execution_count": 2,
   "id": "fa8d3f52-95ea-4858-abfa-af7a6d8ffb48",
   "metadata": {},
   "outputs": [
    {
     "name": "stdin",
     "output_type": "stream",
     "text": [
      "Enter a string:  suyash kumar pandey\n"
     ]
    },
    {
     "name": "stdout",
     "output_type": "stream",
     "text": [
      "Modified string: suyash kumar pandey\n"
     ]
    }
   ],
   "source": [
    "#33. Replace multiple spaces in a string with a single space.\n",
    "# Get user input for the string\n",
    "user_input = input(\"Enter a string: \")\n",
    "\n",
    "# Initialize an empty string for the modified string\n",
    "modified_string = \"\"\n",
    "\n",
    "# Initialize a flag to keep track of whether the previous character was a space\n",
    "previous_char_space = False\n",
    "\n",
    "# Iterate through each character in the input string\n",
    "for char in user_input:\n",
    "    # If the current character is not a space or if it's the first character, add it to the modified string\n",
    "    if char != ' ' or not previous_char_space:\n",
    "        modified_string += char\n",
    "        \n",
    "    # Update the previous_char_space flag\n",
    "    previous_char_space = (char == ' ')\n",
    "\n",
    "# Print the modified string\n",
    "print(\"Modified string:\", modified_string)\n"
   ]
  },
  {
   "cell_type": "code",
   "execution_count": 3,
   "id": "83eb8762-4fd1-401c-b41c-e3fe8e7a261a",
   "metadata": {},
   "outputs": [
    {
     "name": "stdin",
     "output_type": "stream",
     "text": [
      "Enter a URL:  https://drive.google.com/file/d/1q2FG27cypBxxldsz32YjxCtHlupki8jJ/view\n"
     ]
    },
    {
     "name": "stdout",
     "output_type": "stream",
     "text": [
      "Valid URL.\n"
     ]
    }
   ],
   "source": [
    "#34. Check if a string is a valid URL.\n",
    "from urllib.parse import urlparse\n",
    "\n",
    "# Get user input for the URL\n",
    "url = input(\"Enter a URL: \")\n",
    "\n",
    "# Use urlparse to parse the URL\n",
    "parsed_url = urlparse(url)\n",
    "\n",
    "# Check if the parsed URL has a scheme (e.g., http, https) and a net location (e.g., domain)\n",
    "if parsed_url.scheme and parsed_url.netloc:\n",
    "    print(\"Valid URL.\")\n",
    "else:\n",
    "    print(\"Invalid URL.\")\n"
   ]
  },
  {
   "cell_type": "code",
   "execution_count": 4,
   "id": "487c9788-b404-4be0-bb6f-5127b3b981c3",
   "metadata": {},
   "outputs": [
    {
     "name": "stdin",
     "output_type": "stream",
     "text": [
      "Enter a URL:   https://drive.google.com/file/d/1q2FG27cypBxxldsz32YjxCtHlupki8jJ/view\n"
     ]
    },
    {
     "name": "stdout",
     "output_type": "stream",
     "text": [
      "Protocol: \n"
     ]
    }
   ],
   "source": [
    "#35Extract the protocol (http or https) from a URL string.\n",
    "from urllib.parse import urlparse\n",
    "\n",
    "# Get user input for the URL\n",
    "url = input(\"Enter a URL: \")\n",
    "\n",
    "# Use urlparse to parse the URL\n",
    "parsed_url = urlparse(url)\n",
    "\n",
    "# Extract the protocol from the parsed URL\n",
    "protocol = parsed_url.scheme\n",
    "\n",
    "# Print the extracted protocol\n",
    "print(\"Protocol:\", protocol)\n"
   ]
  },
  {
   "cell_type": "code",
   "execution_count": 5,
   "id": "fd1ee2a3-2674-4aad-b9c6-e154db9a404b",
   "metadata": {},
   "outputs": [
    {
     "name": "stdin",
     "output_type": "stream",
     "text": [
      "Enter a string:  suyash\n"
     ]
    },
    {
     "name": "stdout",
     "output_type": "stream",
     "text": [
      "Character Frequencies:\n",
      "'s': 2\n",
      "'u': 1\n",
      "'y': 1\n",
      "'a': 1\n",
      "'h': 1\n"
     ]
    }
   ],
   "source": [
    "#36. Find the frequency of each character in a string.\n",
    "# Get user input for the string\n",
    "user_input = input(\"Enter a string: \")\n",
    "\n",
    "# Initialize an empty dictionary to store character frequencies\n",
    "char_frequency = {}\n",
    "\n",
    "# Iterate through each character in the input string\n",
    "for char in user_input:\n",
    "    # Check if the character is a valid letter or digit (ignore spaces and special characters)\n",
    "    if char.isalnum():\n",
    "        # Increment the character's count in the dictionary, or initialize it to 1 if it doesn't exist\n",
    "        char_frequency[char] = char_frequency.get(char, 0) + 1\n",
    "\n",
    "# Print the character frequencies\n",
    "print(\"Character Frequencies:\")\n",
    "for char, count in char_frequency.items():\n",
    "    print(f\"'{char}': {count}\")\n"
   ]
  },
  {
   "cell_type": "code",
   "execution_count": 6,
   "id": "30d00693-e598-4016-a015-dff8b60cfc5f",
   "metadata": {},
   "outputs": [
    {
     "name": "stdin",
     "output_type": "stream",
     "text": [
      "Enter a string:  suyash\n"
     ]
    },
    {
     "name": "stdout",
     "output_type": "stream",
     "text": [
      "String with punctuation removed: suyash\n"
     ]
    }
   ],
   "source": [
    "#37. Remove all punctuation from a string.\n",
    "import string\n",
    "\n",
    "# Get user input for the string\n",
    "user_input = input(\"Enter a string: \")\n",
    "\n",
    "# Remove punctuation using string.punctuation and a comprehension\n",
    "cleaned_string = ''.join(char for char in user_input if char not in string.punctuation)\n",
    "\n",
    "# Print the cleaned string\n",
    "print(\"String with punctuation removed:\", cleaned_string)\n"
   ]
  },
  {
   "cell_type": "code",
   "execution_count": 9,
   "id": "71a5010d-6199-499a-9518-737b4b3ce95b",
   "metadata": {},
   "outputs": [
    {
     "name": "stdin",
     "output_type": "stream",
     "text": [
      "Enter a string:  3435\n"
     ]
    },
    {
     "name": "stdout",
     "output_type": "stream",
     "text": [
      "The string contains only digits.\n"
     ]
    }
   ],
   "source": [
    "#38. Check if a string contains only digits.\n",
    "# Get user input for the string\n",
    "user_input = input(\"Enter a string: \")\n",
    "\n",
    "# Check if the string contains only digits using str.isdigit()\n",
    "if user_input.isdigit():\n",
    "    print(\"The string contains only digits.\")\n",
    "else:\n",
    "    print(\"The string does not contain only digits.\")\n"
   ]
  },
  {
   "cell_type": "code",
   "execution_count": 10,
   "id": "02b5ad03-5f16-4716-a318-e91f3b43f6ed",
   "metadata": {},
   "outputs": [
    {
     "name": "stdin",
     "output_type": "stream",
     "text": [
      "Enter a string:  suyash67\n"
     ]
    },
    {
     "name": "stdout",
     "output_type": "stream",
     "text": [
      "The string does not contain only alphabetic characters.\n"
     ]
    }
   ],
   "source": [
    "#39. Check if a string contains only alphabets.\n",
    "# Get user input for the string\n",
    "user_input = input(\"Enter a string: \")\n",
    "\n",
    "# Check if the string contains only alphabetic characters using str.isalpha()\n",
    "if user_input.isalpha():\n",
    "    print(\"The string contains only alphabetic characters.\")\n",
    "else:\n",
    "    print(\"The string does not contain only alphabetic characters.\")\n"
   ]
  },
  {
   "cell_type": "code",
   "execution_count": 11,
   "id": "dd9bbc3b-d84c-426c-a8a9-62e360cb3ff0",
   "metadata": {},
   "outputs": [
    {
     "name": "stdin",
     "output_type": "stream",
     "text": [
      "Enter a string:  suTags3\n"
     ]
    },
    {
     "name": "stdout",
     "output_type": "stream",
     "text": [
      "List of characters: ['s', 'u', 'T', 'a', 'g', 's', '3']\n"
     ]
    }
   ],
   "source": [
    "#40. Convert a string to a list of characters.\n",
    "# Get user input for the string\n",
    "user_input = input(\"Enter a string: \")\n",
    "\n",
    "# Convert the string to a list of characters using a list comprehension\n",
    "character_list = [char for char in user_input]\n",
    "\n",
    "# Print the list of characters\n",
    "print(\"List of characters:\", character_list)\n"
   ]
  },
  {
   "cell_type": "code",
   "execution_count": 12,
   "id": "3dc9ebcf-914b-46e5-9aee-6db0c3887c59",
   "metadata": {},
   "outputs": [
    {
     "name": "stdin",
     "output_type": "stream",
     "text": [
      "Enter the first string:  su uyas\n",
      "Enter the second string:  sgterdasv\n"
     ]
    },
    {
     "name": "stdout",
     "output_type": "stream",
     "text": [
      "The strings are not anagrams.\n"
     ]
    }
   ],
   "source": [
    "#41. Check if two strings are anagrams.\n",
    "# Get user input for the two strings\n",
    "string1 = input(\"Enter the first string: \")\n",
    "string2 = input(\"Enter the second string: \")\n",
    "\n",
    "# Remove spaces and convert both strings to lowercase for a case-insensitive comparison\n",
    "string1 = string1.replace(\" \", \"\").lower()\n",
    "string2 = string2.replace(\" \", \"\").lower()\n",
    "\n",
    "# Check if the sorted versions of the strings are the same\n",
    "if sorted(string1) == sorted(string2):\n",
    "    print(\"The strings are anagrams.\")\n",
    "else:\n",
    "    print(\"The strings are not anagrams.\")\n"
   ]
  },
  {
   "cell_type": "code",
   "execution_count": 13,
   "id": "e207d6b4-eec2-44c5-ae3b-11ed7f5d50ed",
   "metadata": {},
   "outputs": [
    {
     "name": "stdin",
     "output_type": "stream",
     "text": [
      "Enter a string:  sutyasyudfyuasdf\\\n",
      "Enter a shift amount (a positive integer):  34353\n"
     ]
    },
    {
     "name": "stdout",
     "output_type": "stream",
     "text": [
      "Encrypted string: zbafhzfbkmfbhzkm\\\n"
     ]
    }
   ],
   "source": [
    "#42. Encode a string using a Caesar cipher.\n",
    "# Function to encode a string using a Caesar cipher\n",
    "def caesar_cipher_encrypt(text, shift):\n",
    "    encrypted_text = \"\"\n",
    "    for char in text:\n",
    "        if char.isalpha():\n",
    "            shift_amount = shift % 26  # Ensure the shift is within the alphabet range\n",
    "            if char.islower():\n",
    "                encrypted_char = chr(((ord(char) - ord('a') + shift_amount) % 26) + ord('a'))\n",
    "            else:\n",
    "                encrypted_char = chr(((ord(char) - ord('A') + shift_amount) % 26) + ord('A'))\n",
    "            encrypted_text += encrypted_char\n",
    "        else:\n",
    "            encrypted_text += char  # Preserve non-alphabetic characters\n",
    "    return encrypted_text\n",
    "\n",
    "# Get user input for the string and the shift amount\n",
    "user_input = input(\"Enter a string: \")\n",
    "shift_amount = int(input(\"Enter a shift amount (a positive integer): \"))\n",
    "\n",
    "# Encrypt the string using the Caesar cipher\n",
    "encrypted_string = caesar_cipher_encrypt(user_input, shift_amount)\n",
    "\n",
    "# Print the encrypted string\n",
    "print(\"Encrypted string:\", encrypted_string)\n"
   ]
  },
  {
   "cell_type": "code",
   "execution_count": 15,
   "id": "57daea80-78f6-4ad9-8d8b-e7404bde5045",
   "metadata": {},
   "outputs": [
    {
     "name": "stdin",
     "output_type": "stream",
     "text": [
      "Enter an encoded string:  awds\n",
      "Enter the original shift amount (a positive integer):  3456\n"
     ]
    },
    {
     "name": "stdout",
     "output_type": "stream",
     "text": [
      "Decrypted string: cyfu\n"
     ]
    }
   ],
   "source": [
    "#43. Decode a Caesar cipher encoded string.\n",
    "# Function to decode a Caesar cipher encoded string\n",
    "def caesar_cipher_decrypt(text, shift):\n",
    "    decrypted_text = \"\"\n",
    "    for char in text:\n",
    "        if char.isalpha():\n",
    "            shift_amount = shift % 26  # Ensure the shift is within the alphabet range\n",
    "            if char.islower():\n",
    "                decrypted_char = chr(((ord(char) - ord('a') - shift_amount + 26) % 26) + ord('a'))\n",
    "            else:\n",
    "                decrypted_char = chr(((ord(char) - ord('A') - shift_amount + 26) % 26) + ord('A'))\n",
    "            decrypted_text += decrypted_char\n",
    "        else:\n",
    "            decrypted_text += char  # Preserve non-alphabetic characters\n",
    "    return decrypted_text\n",
    "\n",
    "# Get user input for the encoded string and the shift amount\n",
    "encoded_string = input(\"Enter an encoded string: \")\n",
    "shift_amount = int(input(\"Enter the original shift amount (a positive integer): \"))\n",
    "\n",
    "# Decrypt the encoded string using the Caesar cipher\n",
    "decrypted_string = caesar_cipher_decrypt(encoded_string, shift_amount)\n",
    "\n",
    "# Print the decrypted string\n",
    "print(\"Decrypted string:\", decrypted_string)\n",
    "\n"
   ]
  },
  {
   "cell_type": "code",
   "execution_count": 16,
   "id": "fac261aa-e228-4d53-83f9-2d30b11e4ad4",
   "metadata": {},
   "outputs": [
    {
     "name": "stdin",
     "output_type": "stream",
     "text": [
      "Enter a string:  sutasygdsyav\\\n"
     ]
    },
    {
     "name": "stdout",
     "output_type": "stream",
     "text": [
      "The string contains special characters.\n"
     ]
    }
   ],
   "source": [
    "#47. Check if a string contains any special characters.\n",
    "# Get user input for the string\n",
    "user_input = input(\"Enter a string: \")\n",
    "\n",
    "# Initialize a flag to track if any special characters are found\n",
    "has_special_characters = False\n",
    "\n",
    "# Check if the string contains any special characters\n",
    "for char in user_input:\n",
    "    if not char.isalnum():\n",
    "        has_special_characters = True\n",
    "        break\n",
    "\n",
    "# Print the result\n",
    "if has_special_characters:\n",
    "    print(\"The string contains special characters.\")\n",
    "else:\n",
    "    print(\"The string does not contain special characters.\")\n",
    "\n"
   ]
  },
  {
   "cell_type": "code",
   "execution_count": 19,
   "id": "741a21d6-caa7-4948-8605-49a6f867a101",
   "metadata": {},
   "outputs": [
    {
     "name": "stdin",
     "output_type": "stream",
     "text": [
      "Enter a string:  suaysh khsauh\n",
      "Enter the index (starting from 0) of the word to remove:  1\n"
     ]
    },
    {
     "name": "stdout",
     "output_type": "stream",
     "text": [
      "Modified string: suaysh\n"
     ]
    }
   ],
   "source": [
    "#48. Remove the nth word from a string.\n",
    "# Get user input for the string\n",
    "user_input = input(\"Enter a string: \")\n",
    "\n",
    "# Split the string into words using spaces\n",
    "words = user_input.split()\n",
    "\n",
    "# Get the index (n) of the word to remove (assume n is a valid index)\n",
    "n = int(input(\"Enter the index (starting from 0) of the word to remove: \"))\n",
    "\n",
    "# Check if the index is within the valid range\n",
    "if 0 <= n < len(words):\n",
    "    # Remove the nth word from the list of words\n",
    "    del words[n]\n",
    "\n",
    "    # Join the remaining words back into a string\n",
    "    modified_string = ' '.join(words)\n",
    "\n",
    "    # Print the modified string\n",
    "    print(\"Modified string:\", modified_string)\n",
    "else:\n",
    "    print(\"Invalid index. The string was not modified.\")\n"
   ]
  },
  {
   "cell_type": "code",
   "execution_count": 20,
   "id": "eab3d12e-c3f0-4fe5-86e0-6271da557cae",
   "metadata": {},
   "outputs": [
    {
     "name": "stdin",
     "output_type": "stream",
     "text": [
      "Enter a string:  suyaSH KUMAR PANDEY\n",
      "Enter the index (starting from 0) where you want to insert the word:  2\n",
      "Enter the word to insert:  KUMAR\n"
     ]
    },
    {
     "name": "stdout",
     "output_type": "stream",
     "text": [
      "Modified string: suyaSH KUMAR KUMAR PANDEY\n"
     ]
    }
   ],
   "source": [
    "#49. Insert a word at the nth position in a string.\n",
    "# Get user input for the string\n",
    "user_input = input(\"Enter a string: \")\n",
    "\n",
    "# Split the string into words using spaces\n",
    "words = user_input.split()\n",
    "\n",
    "# Get the index (n) where the word should be inserted (assume n is a valid index)\n",
    "n = int(input(\"Enter the index (starting from 0) where you want to insert the word: \"))\n",
    "\n",
    "# Get the word to insert\n",
    "word_to_insert = input(\"Enter the word to insert: \")\n",
    "\n",
    "# Check if the index is within the valid range\n",
    "if 0 <= n <= len(words):\n",
    "    # Insert the word at the specified index\n",
    "    words.insert(n, word_to_insert)\n",
    "\n",
    "    # Join the words back into a string\n",
    "    modified_string = ' '.join(words)\n",
    "\n",
    "    # Print the modified string\n",
    "    print(\"Modified string:\", modified_string)\n",
    "else:\n",
    "    print(\"Invalid index. The string was not modified.\")\n"
   ]
  },
  {
   "cell_type": "code",
   "execution_count": 21,
   "id": "a6513df5-3068-47d7-b9be-242c2e1d2e70",
   "metadata": {},
   "outputs": [
    {
     "name": "stdin",
     "output_type": "stream",
     "text": [
      "Enter a CSV string:  suyash.csv\n"
     ]
    },
    {
     "name": "stdout",
     "output_type": "stream",
     "text": [
      "CSV as a list of lists:\n",
      "['suyash.csv']\n"
     ]
    }
   ],
   "source": [
    "#50. Convert a CSV string to a list of lists.\n",
    "import csv\n",
    "import io\n",
    "\n",
    "# Get user input for the CSV string\n",
    "csv_string = input(\"Enter a CSV string: \")\n",
    "\n",
    "# Create a CSV reader for the string\n",
    "csv_reader = csv.reader(io.StringIO(csv_string))\n",
    "\n",
    "# Convert the CSV reader to a list of lists\n",
    "csv_list = list(csv_reader)\n",
    "\n",
    "# Print the list of lists\n",
    "print(\"CSV as a list of lists:\")\n",
    "for row in csv_list:\n",
    "    print(row)\n"
   ]
  },
  {
   "cell_type": "code",
   "execution_count": null,
   "id": "cf3dee40-e02c-4932-8804-4f8c9fc83bb8",
   "metadata": {},
   "outputs": [],
   "source": []
  }
 ],
 "metadata": {
  "kernelspec": {
   "display_name": "Python 3 (ipykernel)",
   "language": "python",
   "name": "python3"
  },
  "language_info": {
   "codemirror_mode": {
    "name": "ipython",
    "version": 3
   },
   "file_extension": ".py",
   "mimetype": "text/x-python",
   "name": "python",
   "nbconvert_exporter": "python",
   "pygments_lexer": "ipython3",
   "version": "3.10.8"
  }
 },
 "nbformat": 4,
 "nbformat_minor": 5
}
