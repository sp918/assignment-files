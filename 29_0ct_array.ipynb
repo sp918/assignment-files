{
 "cells": [
  {
   "cell_type": "code",
   "execution_count": 1,
   "id": "6f358c94-1a22-4ea3-9c7f-ef121c5b2b50",
   "metadata": {},
   "outputs": [
    {
     "name": "stdout",
     "output_type": "stream",
     "text": [
      "True\n"
     ]
    }
   ],
   "source": [
    "#1. Given an array, check if it contains any duplicates or not.arr = [1, 2, 4, 2, 5, 9] Output = True\n",
    "\n",
    "def has_duplicates(arr):\n",
    "    seen = set()  # Create an empty set to store unique elements\n",
    "    for num in arr:\n",
    "        if num in seen:  # Check if the current number is already in the set\n",
    "            return True  # If found, return True as there is a duplicate\n",
    "        seen.add(num)  # Otherwise, add the number to the set\n",
    "    return False  # If the loop completes without finding a duplicate, return False\n",
    "\n",
    "arr = [1, 2, 4, 2, 5, 9]\n",
    "print(has_duplicates(arr))  # Output: True\n"
   ]
  },
  {
   "cell_type": "code",
   "execution_count": 2,
   "id": "1d2c694b-22bc-4ca9-81a9-bf07891f75e7",
   "metadata": {},
   "outputs": [
    {
     "name": "stdout",
     "output_type": "stream",
     "text": [
      "[5, 6, 7, 1, 2, 3, 4]\n"
     ]
    }
   ],
   "source": [
    "#2. Given an array and an integer k, rotate the array to the right by k steps.arr = [1, 2, 3, 4, 5, 6, 7] k = 3 Output = [5, 6, 7, 1, 2, 3, 4]\n",
    "\n",
    "def rotate_array(arr, k):\n",
    "    n = len(arr)\n",
    "    k = k % n  # Calculate the effective rotation amount within the array length\n",
    "    arr[:] = arr[-k:] + arr[:-k]  # Slice and concatenate the array to perform the rotation\n",
    "\n",
    "arr = [1, 2, 3, 4, 5, 6, 7]\n",
    "k = 3\n",
    "rotate_array(arr, k)\n",
    "print(arr)  # Output: [5, 6, 7, 1, 2, 3, 4]\n"
   ]
  },
  {
   "cell_type": "code",
   "execution_count": 3,
   "id": "47bef621-c1c9-491e-91e3-21e67cd219f1",
   "metadata": {},
   "outputs": [
    {
     "name": "stdout",
     "output_type": "stream",
     "text": [
      "[12, 9, 7, 5, 4, 2]\n"
     ]
    }
   ],
   "source": [
    "#3. Reverse the given array in-place, means without using any extra data structure.arr = [2, 4, 5, 7, 9, 12] Output = [12, 9, 7, 5, 4, 2]\n",
    "\n",
    "def reverse_array_in_place(arr):\n",
    "    left, right = 0, len(arr) - 1\n",
    "    while left < right:\n",
    "        arr[left], arr[right] = arr[right], arr[left]  # Swap elements at left and right positions\n",
    "        left += 1\n",
    "        right -= 1\n",
    "\n",
    "arr = [2, 4, 5, 7, 9, 12]\n",
    "reverse_array_in_place(arr)\n",
    "print(arr)  # Output: [12, 9, 7, 5, 4, 2]\n"
   ]
  },
  {
   "cell_type": "code",
   "execution_count": 4,
   "id": "5db94d73-840a-4f5b-bc1a-3fe805682f1a",
   "metadata": {},
   "outputs": [
    {
     "name": "stdout",
     "output_type": "stream",
     "text": [
      "20\n"
     ]
    }
   ],
   "source": [
    "#4. Given an array of integers, find the maximum element in an arrayarr = [10, 5, 20, 8, 15] Output = 20\n",
    "\n",
    "arr = [10, 5, 20, 8, 15]\n",
    "max_element = max(arr)\n",
    "print(max_element)  # Output: 20\n"
   ]
  },
  {
   "cell_type": "code",
   "execution_count": 5,
   "id": "503eebef-f4b6-438f-88e9-d28c964fd6ec",
   "metadata": {},
   "outputs": [
    {
     "name": "stdout",
     "output_type": "stream",
     "text": [
      "[1, 2, 3, 4, 5]\n"
     ]
    }
   ],
   "source": [
    "#5. Given a sorted array, remove the duplicate element without using any extra data structure.arr = [1, 1, 2, 2, 2, 3, 3, 4, 4, 4, 5, 5]Output = [1, 2, 3, 4, 5]\n",
    "\n",
    "def remove_duplicates_sorted(arr):\n",
    "    if not arr:\n",
    "        return []  # If the array is empty, return an empty list\n",
    "    i = 0  # Initialize an index variable to track the current position\n",
    "    for j in range(1, len(arr)):\n",
    "        if arr[i] != arr[j]:  # Compare the current element with the next element\n",
    "            i += 1  # If they are different, increment the index\n",
    "            arr[i] = arr[j]  # Replace the current element with the next element\n",
    "    return arr[:i+1]  # Return the portion of the array containing unique elements\n",
    "\n",
    "arr = [1, 1, 2, 2, 2, 3, 3, 4, 4, 4, 5, 5]\n",
    "result = remove_duplicates_sorted(arr)\n",
    "print(result)  # Output: [1, 2, 3, 4, 5]\n"
   ]
  },
  {
   "cell_type": "code",
   "execution_count": null,
   "id": "87907d70-1e7b-49e3-adf2-295cfaaf43dd",
   "metadata": {},
   "outputs": [],
   "source": []
  }
 ],
 "metadata": {
  "kernelspec": {
   "display_name": "Python 3 (ipykernel)",
   "language": "python",
   "name": "python3"
  },
  "language_info": {
   "codemirror_mode": {
    "name": "ipython",
    "version": 3
   },
   "file_extension": ".py",
   "mimetype": "text/x-python",
   "name": "python",
   "nbconvert_exporter": "python",
   "pygments_lexer": "ipython3",
   "version": "3.10.8"
  }
 },
 "nbformat": 4,
 "nbformat_minor": 5
}
