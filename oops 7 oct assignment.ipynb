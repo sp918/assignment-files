{
 "cells": [
  {
   "cell_type": "markdown",
   "id": "c3cb25c7-6ae4-4926-b869-7518b57cddd6",
   "metadata": {},
   "source": [
    "oops assignment\n"
   ]
  },
  {
   "cell_type": "code",
   "execution_count": 3,
   "id": "bc7d9385-35c6-404b-97d9-8027f327c7a7",
   "metadata": {},
   "outputs": [
    {
     "name": "stdout",
     "output_type": "stream",
     "text": [
      "Account balance: $1300.00\n"
     ]
    }
   ],
   "source": [
    "#Problem 1: Bank Account Create a class representing a bank account with attributes like account number, account holder name, and balance. Implement methods to deposit and withdraw money from the account.\n",
    "\n",
    "class BankAccount:\n",
    "    def __init__(self, account_number, account_holder_name, balance):\n",
    "        self.account_number = account_number\n",
    "        self.account_holder_name = account_holder_name\n",
    "        self.balance = balance\n",
    "\n",
    "    def deposit(self, amount):\n",
    "        if amount > 0:\n",
    "            self.balance += amount\n",
    "        else:\n",
    "            print(\"Invalid amount for deposit\")\n",
    "\n",
    "    def withdraw(self, amount):\n",
    "        if amount > 0 and amount <= self.balance:\n",
    "            self.balance -= amount\n",
    "        else:\n",
    "            print(\"Invalid amount for withdrawal\")\n",
    "\n",
    "    def display_balance(self):\n",
    "        print(f\"Account balance: ${self.balance:.2f}\")\n",
    "\n",
    "# Example usage:\n",
    "account = BankAccount(\"12345\", \"John Doe\", 1000)\n",
    "account.deposit(500)\n",
    "account.withdraw(200)\n",
    "account.display_balance()\n",
    "\n",
    "\n",
    "\n",
    "\n",
    "\n",
    "\n",
    "\n",
    "\n",
    "\n",
    "\n"
   ]
  },
  {
   "cell_type": "code",
   "execution_count": 4,
   "id": "25cf6e01-2dc5-443a-bf37-9bfb54d371a5",
   "metadata": {},
   "outputs": [
    {
     "name": "stdout",
     "output_type": "stream",
     "text": [
      "Employee ID: E001\n",
      "Name: Alice\n",
      "Salary: $50000.00\n",
      "Yearly Bonus: $5000.00\n"
     ]
    }
   ],
   "source": [
    "#Problem 2: Employee Management Create a class representing an employee with attributes like employee ID, name, and salary. Implement methods to calculate the yearly bonus and display employee details.\n",
    "class Employee:\n",
    "    def __init__(self, employee_id, name, salary):\n",
    "        self.employee_id = employee_id\n",
    "        self.name = name\n",
    "        self.salary = salary\n",
    "\n",
    "    def calculate_yearly_bonus(self, bonus_percentage):\n",
    "        return (bonus_percentage / 100) * self.salary\n",
    "\n",
    "    def display_employee_details(self):\n",
    "        print(f\"Employee ID: {self.employee_id}\")\n",
    "        print(f\"Name: {self.name}\")\n",
    "        print(f\"Salary: ${self.salary:.2f}\")\n",
    "\n",
    "# Example usage:\n",
    "employee = Employee(\"E001\", \"Alice\", 50000)\n",
    "bonus = employee.calculate_yearly_bonus(10)\n",
    "employee.display_employee_details()\n",
    "print(f\"Yearly Bonus: ${bonus:.2f}\")\n"
   ]
  },
  {
   "cell_type": "code",
   "execution_count": 5,
   "id": "de41f28f-1bdc-436a-972f-7438554754da",
   "metadata": {},
   "outputs": [
    {
     "name": "stdout",
     "output_type": "stream",
     "text": [
      "Available Vehicles:\n",
      "Car 1\n",
      "Car 2\n",
      "Bike 1\n",
      "Rented Car 1\n",
      "Available Vehicles:\n",
      "Car 2\n",
      "Bike 1\n",
      "Returned Car 1\n",
      "Available Vehicles:\n",
      "Car 2\n",
      "Bike 1\n",
      "Car 1\n"
     ]
    }
   ],
   "source": [
    "#Problem 3: Vehicle Rental Create a class representing a vehicle rental system. Implement methods to rent a vehicle, return a vehicle, and display available vehicles.\n",
    "class VehicleRental:\n",
    "    def __init__(self):\n",
    "        self.available_vehicles = []\n",
    "\n",
    "    def rent_vehicle(self, vehicle):\n",
    "        self.available_vehicles.remove(vehicle)\n",
    "        print(f\"Rented {vehicle}\")\n",
    "\n",
    "    def return_vehicle(self, vehicle):\n",
    "        self.available_vehicles.append(vehicle)\n",
    "        print(f\"Returned {vehicle}\")\n",
    "\n",
    "    def display_available_vehicles(self):\n",
    "        print(\"Available Vehicles:\")\n",
    "        for vehicle in self.available_vehicles:\n",
    "            print(vehicle)\n",
    "\n",
    "# Example usage:\n",
    "rental_system = VehicleRental()\n",
    "rental_system.available_vehicles = [\"Car 1\", \"Car 2\", \"Bike 1\"]\n",
    "rental_system.display_available_vehicles()\n",
    "rental_system.rent_vehicle(\"Car 1\")\n",
    "rental_system.display_available_vehicles()\n",
    "rental_system.return_vehicle(\"Car 1\")\n",
    "rental_system.display_available_vehicles()\n"
   ]
  },
  {
   "cell_type": "code",
   "execution_count": null,
   "id": "b92f4771-1c45-4553-8a6b-d4d27ae71067",
   "metadata": {},
   "outputs": [],
   "source": [
    "#Problem 4: Library Catalog Create classes representing a library and a book. Implement methods to add books to the library, borrow books, and display available books.\n"
   ]
  },
  {
   "cell_type": "code",
   "execution_count": null,
   "id": "dba046ab-da15-4c4b-89c8-2a616c9959f9",
   "metadata": {},
   "outputs": [],
   "source": [
    "#Problem 5: Product Inventory Create classes representing a product and an inventory system. Implement methods to add products to the inventory, update product quantity, and display available products.\n"
   ]
  },
  {
   "cell_type": "code",
   "execution_count": null,
   "id": "c87c7ec3-f3dd-4f40-926d-a8974b9cf156",
   "metadata": {},
   "outputs": [],
   "source": [
    "#Problem 6: Shape Calculation Create a class representing a shape with attributes like length, width, and height. Implement methods to calculate the area and perimeter of the shape."
   ]
  },
  {
   "cell_type": "code",
   "execution_count": null,
   "id": "926af2d3-6efc-4b7b-a118-6bcff0aca9cf",
   "metadata": {},
   "outputs": [],
   "source": [
    "#Problem 7: Student Management Create a class representing a student with attributes like student ID, name, and grades. Implement methods to calculate the average grade and display student details."
   ]
  },
  {
   "cell_type": "code",
   "execution_count": null,
   "id": "d3f75269-caf3-44ca-94dd-ab6bf4db9e1a",
   "metadata": {},
   "outputs": [],
   "source": [
    "#Problem 8: Email Management Create a class representing an email with attributes like sender, recipient, and subject. Implement methods to send an email and display email details.\n"
   ]
  },
  {
   "cell_type": "code",
   "execution_count": null,
   "id": "db10bd3e-d9f1-4904-a6b1-1f68aa178d86",
   "metadata": {},
   "outputs": [],
   "source": []
  },
  {
   "cell_type": "code",
   "execution_count": null,
   "id": "bef81736-1a3a-4e2b-a005-719cc3642a26",
   "metadata": {},
   "outputs": [],
   "source": []
  },
  {
   "cell_type": "code",
   "execution_count": null,
   "id": "85be237e-5aca-44da-b8bc-e41fbdad84f9",
   "metadata": {},
   "outputs": [],
   "source": []
  },
  {
   "cell_type": "code",
   "execution_count": null,
   "id": "02a68451-d154-4201-8c90-1c111dada3db",
   "metadata": {},
   "outputs": [],
   "source": []
  },
  {
   "cell_type": "code",
   "execution_count": null,
   "id": "e987ba1f-ad1e-4faa-a698-08e7ee2100bb",
   "metadata": {},
   "outputs": [],
   "source": []
  },
  {
   "cell_type": "code",
   "execution_count": null,
   "id": "639dfdaa-96f8-4d3f-9e04-c6603555711f",
   "metadata": {},
   "outputs": [],
   "source": []
  },
  {
   "cell_type": "code",
   "execution_count": null,
   "id": "2e59bb75-e136-4ed5-b95c-82e01ce2d3bb",
   "metadata": {},
   "outputs": [],
   "source": []
  },
  {
   "cell_type": "code",
   "execution_count": null,
   "id": "fb65f9cc-5ce5-408b-987a-f0449b477b97",
   "metadata": {},
   "outputs": [],
   "source": []
  },
  {
   "cell_type": "code",
   "execution_count": null,
   "id": "2d100855-7bdd-45c8-8a3e-ee9c6dd668cb",
   "metadata": {},
   "outputs": [],
   "source": []
  },
  {
   "cell_type": "code",
   "execution_count": null,
   "id": "1190d043-d2bd-4392-8567-92daef920d9a",
   "metadata": {},
   "outputs": [],
   "source": []
  },
  {
   "cell_type": "code",
   "execution_count": null,
   "id": "a4dec743-fd96-413f-8229-d6eccaff3f68",
   "metadata": {},
   "outputs": [],
   "source": []
  },
  {
   "cell_type": "code",
   "execution_count": null,
   "id": "63092af4-d4ce-4abc-a3c0-5e47fa306332",
   "metadata": {},
   "outputs": [],
   "source": []
  },
  {
   "cell_type": "code",
   "execution_count": null,
   "id": "bcbb3895-1492-4476-813b-dae9d6b0d30e",
   "metadata": {},
   "outputs": [],
   "source": []
  },
  {
   "cell_type": "code",
   "execution_count": null,
   "id": "115397b0-184e-4c64-9ad1-c768e07cd487",
   "metadata": {},
   "outputs": [],
   "source": []
  },
  {
   "cell_type": "code",
   "execution_count": null,
   "id": "be1d230c-eb12-45ab-92e5-ed21feabc510",
   "metadata": {},
   "outputs": [],
   "source": []
  },
  {
   "cell_type": "code",
   "execution_count": null,
   "id": "64d2661a-8200-4b65-9396-1db2671109bb",
   "metadata": {},
   "outputs": [],
   "source": []
  },
  {
   "cell_type": "code",
   "execution_count": null,
   "id": "93e665f0-fbd9-4bfa-b4fd-e3282a4f2eb4",
   "metadata": {},
   "outputs": [],
   "source": []
  },
  {
   "cell_type": "code",
   "execution_count": null,
   "id": "0473d857-2cdf-44c7-8f35-293a4cdb83ad",
   "metadata": {},
   "outputs": [],
   "source": []
  },
  {
   "cell_type": "code",
   "execution_count": null,
   "id": "be6e53c2-68a3-47d8-aff8-3abdde242cc3",
   "metadata": {},
   "outputs": [],
   "source": []
  }
 ],
 "metadata": {
  "kernelspec": {
   "display_name": "Python 3 (ipykernel)",
   "language": "python",
   "name": "python3"
  },
  "language_info": {
   "codemirror_mode": {
    "name": "ipython",
    "version": 3
   },
   "file_extension": ".py",
   "mimetype": "text/x-python",
   "name": "python",
   "nbconvert_exporter": "python",
   "pygments_lexer": "ipython3",
   "version": "3.10.8"
  }
 },
 "nbformat": 4,
 "nbformat_minor": 5
}
