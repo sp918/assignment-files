{
 "cells": [
  {
   "cell_type": "markdown",
   "id": "bb7888c7-1741-4af6-8967-536bd2e1cdb2",
   "metadata": {},
   "source": [
    " Assignment Questions Basic Level"
   ]
  },
  {
   "cell_type": "code",
   "execution_count": 1,
   "id": "30e92634-7fef-47e6-8240-8544a4d49937",
   "metadata": {},
   "outputs": [
    {
     "name": "stdout",
     "output_type": "stream",
     "text": [
      "1\n",
      "2\n",
      "3\n",
      "4\n",
      "5\n",
      "6\n",
      "7\n",
      "8\n",
      "9\n",
      "10\n"
     ]
    }
   ],
   "source": [
    "#1.Write a Python program to print the numbers from 1 to 10 using a `for` loop.\n",
    "\n",
    "for i in range(1, 11): # setting of an range \n",
    "    print(i)\n"
   ]
  },
  {
   "cell_type": "code",
   "execution_count": 2,
   "id": "47d1cfd7-ea96-4cd3-980e-8dcaae07b73e",
   "metadata": {},
   "outputs": [
    {
     "name": "stdout",
     "output_type": "stream",
     "text": [
      "Sum: 15\n"
     ]
    }
   ],
   "source": [
    "#2. Create a program that calculates the sum of all numbers in a list using a `for` loop.\n",
    "numbers = [1, 2, 3, 4, 5] # setting of list of numbers\n",
    "sum_result = 0 # intial sum\n",
    "\n",
    "for num in numbers:\n",
    "    sum_result += num # adding of an sum of list numbers\n",
    "\n",
    "print(\"Sum:\", sum_result) # print the sum of result\n",
    "\n"
   ]
  },
  {
   "cell_type": "code",
   "execution_count": 3,
   "id": "32e6692f-1504-4d80-ba55-b9d9f931e8b6",
   "metadata": {},
   "outputs": [
    {
     "name": "stdout",
     "output_type": "stream",
     "text": [
      "!dlroW ,olleH\n"
     ]
    }
   ],
   "source": [
    "#3. Write a program to print the characters of a string in reverse order using a `for` loop.\n",
    "text = \"Hello, World!\" # define of an text word \n",
    "reverse_text = \"\" # for reveersing of an text\n",
    "\n",
    "for char in reversed(text):\n",
    "    reverse_text += char # reversed text in char\n",
    "\n",
    "print(reverse_text) # printing the reverse text\n"
   ]
  },
  {
   "cell_type": "code",
   "execution_count": 4,
   "id": "9acd3563-20bc-4289-9853-a79df2699b7a",
   "metadata": {},
   "outputs": [
    {
     "name": "stdout",
     "output_type": "stream",
     "text": [
      "Factorial of 5 is 120\n"
     ]
    }
   ],
   "source": [
    "#4. Develop a program that finds the factorial of a given number using a `for` loop.\n",
    "num = 5 # define an number\n",
    "factorial = 1  # finding factorial till 1\n",
    "\n",
    "for i in range(1, num + 1): # setting of an range value \n",
    "    factorial *= i # formuka to calculate factorial\n",
    "\n",
    "print(\"Factorial of\", num, \"is\", factorial) # print the factotial value\n"
   ]
  },
  {
   "cell_type": "code",
   "execution_count": 6,
   "id": "7642bfd4-fd8c-4e38-afb0-35d4519908c5",
   "metadata": {},
   "outputs": [
    {
     "name": "stdout",
     "output_type": "stream",
     "text": [
      "7 x 1 = 7\n",
      "7 x 2 = 14\n",
      "7 x 3 = 21\n",
      "7 x 4 = 28\n",
      "7 x 5 = 35\n",
      "7 x 6 = 42\n",
      "7 x 7 = 49\n",
      "7 x 8 = 56\n",
      "7 x 9 = 63\n",
      "7 x 10 = 70\n"
     ]
    }
   ],
   "source": [
    "#5. Create a program to print the multiplication table of a given number using a `for` loop.\n",
    "num = 7 # define an number 7 for calculating multiple of number\n",
    "\n",
    "for i in range(1, 11): # setting of an range value to calculate multiplication\n",
    "    result = num * i # result to calculate multiplication\n",
    "    print(f\"{num} x {i} = {result}\") # print the result of multiplication of numbers\n"
   ]
  },
  {
   "cell_type": "code",
   "execution_count": 7,
   "id": "745c29d2-444f-4955-95d5-33a3aca5a051",
   "metadata": {},
   "outputs": [
    {
     "name": "stdout",
     "output_type": "stream",
     "text": [
      "Even numbers: 4\n",
      "Odd numbers: 5\n"
     ]
    }
   ],
   "source": [
    "#6. Write a program that counts the number of even and odd numbers in a list using a `for` loop.\n",
    "numbers = [1, 2, 3, 4, 5, 6, 7, 8, 9] # define of an list\n",
    "even_count = 0\n",
    "odd_count = 0\n",
    "\n",
    "for num in numbers:\n",
    "    if num % 2 == 0: # if number is divisible by 2 then add in count\n",
    "        even_count += 1\n",
    "    else:\n",
    "        odd_count += 1 #else add in count 2\n",
    "\n",
    "print(\"Even numbers:\", even_count) # print the even numbers occured in list\n",
    "print(\"Odd numbers:\", odd_count) # print the odd numbers occured in list"
   ]
  },
  {
   "cell_type": "code",
   "execution_count": 8,
   "id": "4b070311-6271-45cd-ac3f-757c5d66999a",
   "metadata": {},
   "outputs": [
    {
     "name": "stdout",
     "output_type": "stream",
     "text": [
      "1 squared is 1\n",
      "2 squared is 4\n",
      "3 squared is 9\n",
      "4 squared is 16\n",
      "5 squared is 25\n"
     ]
    }
   ],
   "source": [
    "#7. Develop a program that prints the squares of numbers from 1 to 5 using a `for` loop.\n",
    "for i in range(1, 6): # setting of an range functions\n",
    "    square = i * i  # finding squares of numbers\n",
    "    print(f\"{i} squared is {square}\")\n",
    "\n"
   ]
  },
  {
   "cell_type": "code",
   "execution_count": 9,
   "id": "68201827-f0d8-449d-8e16-990c48bdd1b6",
   "metadata": {},
   "outputs": [
    {
     "name": "stdout",
     "output_type": "stream",
     "text": [
      "Length of the string is: 13\n"
     ]
    }
   ],
   "source": [
    "#8. Create a program to find the length of a string without using the `len()` function.\n",
    "text = \"Hello, World!\" # setting of text value\n",
    "length = 0\n",
    "\n",
    "for char in text:\n",
    "    length += 1\n",
    "\n",
    "print(\"Length of the string is:\", length)\n"
   ]
  },
  {
   "cell_type": "code",
   "execution_count": 10,
   "id": "b02cd9d7-cc44-414e-ad65-b46e8f1e4aab",
   "metadata": {},
   "outputs": [
    {
     "name": "stdout",
     "output_type": "stream",
     "text": [
      "Average: 30.0\n"
     ]
    }
   ],
   "source": [
    "#9. Write a program that calculates the average of a list of numbers using a `for` loop.\n",
    "numbers = [10, 20, 30, 40, 50] # setting an list numbers\n",
    "total = 0\n",
    "\n",
    "for num in numbers:\n",
    "    total += num\n",
    "\n",
    "average = total / len(numbers) # calculating of an average numbers\n",
    "print(\"Average:\", average)\n"
   ]
  },
  {
   "cell_type": "code",
   "execution_count": 11,
   "id": "15592f5a-b5dc-4a90-a58f-c82f6d11ab03",
   "metadata": {},
   "outputs": [
    {
     "name": "stdout",
     "output_type": "stream",
     "text": [
      "0 1 1 2 3 5 8 13 21 34 "
     ]
    }
   ],
   "source": [
    "#10. Develop a program that prints the first `n` Fibonacci numbers using a `for` loop.\n",
    "n = 10 # define an number for items\n",
    "a, b = 0, 1\n",
    "\n",
    "for _ in range(n):\n",
    "    print(a, end=\" \")\n",
    "    a, b = b, a + b\n"
   ]
  },
  {
   "cell_type": "markdown",
   "id": "e38a3352-f4d0-4409-b97b-a9f2c496aa3f",
   "metadata": {},
   "source": [
    "Assignment Questions Intermediate Level"
   ]
  },
  {
   "cell_type": "code",
   "execution_count": 38,
   "id": "a9ae414f-0a5f-405d-b2e5-1a322676b024",
   "metadata": {},
   "outputs": [
    {
     "name": "stdout",
     "output_type": "stream",
     "text": [
      "List has duplicates\n"
     ]
    }
   ],
   "source": [
    "#11. Write a program to check if a given list contains any duplicates using a `for` loop.\n",
    "def has_duplicates(lst): # define an function has duplicate\n",
    "    seen = set()\n",
    "    for item in lst:\n",
    "        if item in seen:\n",
    "            return True\n",
    "        seen.add(item) # ad item in an list\n",
    "    return False\n",
    "\n",
    "my_list = [1, 2, 3, 4, 2, 5]\n",
    "if has_duplicates(my_list): # if founf duplicates in list\n",
    "    print(\"List has duplicates\") # print the elements has duplicates or not\n",
    "else:\n",
    "    print(\"List has no duplicates\")\n"
   ]
  },
  {
   "cell_type": "code",
   "execution_count": 39,
   "id": "8ee9c1d3-8ef3-4cfa-b467-f8c3f7ef3cfb",
   "metadata": {},
   "outputs": [
    {
     "name": "stdout",
     "output_type": "stream",
     "text": [
      "11\n",
      "13\n",
      "17\n",
      "19\n",
      "23\n",
      "29\n",
      "31\n",
      "37\n",
      "41\n",
      "43\n",
      "47\n"
     ]
    }
   ],
   "source": [
    "#12. Create a program that prints the prime numbers in a given range using a `for` loop.\n",
    "def is_prime(num): #function to define prime num\n",
    "    if num <= 1:\n",
    "        return False\n",
    "    for i in range(2, int(num**0.5) + 1):\n",
    "        if num % i == 0:\n",
    "            return False\n",
    "    return True\n",
    "\n",
    "start = 10\n",
    "end = 50\n",
    "\n",
    "for num in range(start, end+1):\n",
    "    if is_prime(num):\n",
    "        print(num)\n"
   ]
  },
  {
   "cell_type": "code",
   "execution_count": 40,
   "id": "6eb131c9-f3d3-4a62-8476-28c7c4eed15c",
   "metadata": {},
   "outputs": [
    {
     "name": "stdout",
     "output_type": "stream",
     "text": [
      "Number of vowels: 3\n"
     ]
    }
   ],
   "source": [
    "#13. Develop a program that counts the number of vowels in a string using a `for` loop.\n",
    "text = \"Hello, World!\" #define of an text\n",
    "vowels = \"aeiouAEIOU\" # define of vowels\n",
    "count = 0\n",
    "\n",
    "for char in text:\n",
    "    if char in vowels:\n",
    "        count += 1\n",
    "\n",
    "print(\"Number of vowels:\", count) # print the vowlels\n"
   ]
  },
  {
   "cell_type": "code",
   "execution_count": 41,
   "id": "8ba7bdf6-75e2-4f63-a395-5d9d633410de",
   "metadata": {},
   "outputs": [
    {
     "name": "stdout",
     "output_type": "stream",
     "text": [
      "Maximum element: 9\n"
     ]
    }
   ],
   "source": [
    "#14. Write a program to find the maximum element in a 2D list using a nested `for` loop.\n",
    "matrix = [\n",
    "    [1, 2, 3],\n",
    "    [4, 9, 6],\n",
    "    [7, 8, 5]\n",
    "]                  # define an 2d list\n",
    "\n",
    "max_value = float(\"-inf\") # finfing max value\n",
    "\n",
    "for row in matrix:\n",
    "    for value in row:\n",
    "        if value > max_value:\n",
    "            max_value = value\n",
    "\n",
    "print(\"Maximum element:\", max_value) # print the max elements\n"
   ]
  },
  {
   "cell_type": "code",
   "execution_count": 42,
   "id": "165e3213-82af-4a91-b204-7a352a003087",
   "metadata": {},
   "outputs": [
    {
     "name": "stdout",
     "output_type": "stream",
     "text": [
      "List after removing 2 : [1, 3, 4, 5]\n"
     ]
    }
   ],
   "source": [
    "#15. Create a program that removes all occurrences of a specific element from a list using a `for` loop.\n",
    "my_list = [1, 2, 3, 2, 4, 2, 5] # setting of list\n",
    "element_to_remove = 2\n",
    "\n",
    "new_list = [] # setting of new empty list after removal\n",
    "\n",
    "for item in my_list: # if lements in list\n",
    "    if item != element_to_remove:\n",
    "        new_list.append(item) # append new list\n",
    "\n",
    "print(\"List after removing\", element_to_remove, \":\", new_list)\n"
   ]
  },
  {
   "cell_type": "code",
   "execution_count": 46,
   "id": "daccd0c0-9468-4adb-b760-052805123287",
   "metadata": {},
   "outputs": [
    {
     "name": "stdout",
     "output_type": "stream",
     "text": [
      "1 x 1 = 1\n",
      "1 x 2 = 2\n",
      "1 x 3 = 3\n",
      "1 x 4 = 4\n",
      "1 x 5 = 5\n",
      "1 x 6 = 6\n",
      "1 x 7 = 7\n",
      "1 x 8 = 8\n",
      "1 x 9 = 9\n",
      "1 x 10 = 10\n",
      "\n",
      "2 x 1 = 2\n",
      "2 x 2 = 4\n",
      "2 x 3 = 6\n",
      "2 x 4 = 8\n",
      "2 x 5 = 10\n",
      "2 x 6 = 12\n",
      "2 x 7 = 14\n",
      "2 x 8 = 16\n",
      "2 x 9 = 18\n",
      "2 x 10 = 20\n",
      "\n",
      "3 x 1 = 3\n",
      "3 x 2 = 6\n",
      "3 x 3 = 9\n",
      "3 x 4 = 12\n",
      "3 x 5 = 15\n",
      "3 x 6 = 18\n",
      "3 x 7 = 21\n",
      "3 x 8 = 24\n",
      "3 x 9 = 27\n",
      "3 x 10 = 30\n",
      "\n",
      "4 x 1 = 4\n",
      "4 x 2 = 8\n",
      "4 x 3 = 12\n",
      "4 x 4 = 16\n",
      "4 x 5 = 20\n",
      "4 x 6 = 24\n",
      "4 x 7 = 28\n",
      "4 x 8 = 32\n",
      "4 x 9 = 36\n",
      "4 x 10 = 40\n",
      "\n",
      "5 x 1 = 5\n",
      "5 x 2 = 10\n",
      "5 x 3 = 15\n",
      "5 x 4 = 20\n",
      "5 x 5 = 25\n",
      "5 x 6 = 30\n",
      "5 x 7 = 35\n",
      "5 x 8 = 40\n",
      "5 x 9 = 45\n",
      "5 x 10 = 50\n",
      "\n"
     ]
    }
   ],
   "source": [
    "#16. Develop a program that generates a multiplication table for numbers from 1 to 5 using a nested `for` loop.\n",
    "for i in range(1, 6): # setting of an range limit to calculate multiple of number\n",
    "    for j in range(1, 11): # multipication for range \n",
    "        result = i * j \n",
    "        print(f\"{i} x {j} = {result}\", end=\"\\n\")\n",
    "    print()  # print the output of numbers\n"
   ]
  },
  {
   "cell_type": "code",
   "execution_count": 47,
   "id": "2464732a-7c0a-4249-845e-52f0c17ec24f",
   "metadata": {},
   "outputs": [
    {
     "name": "stdout",
     "output_type": "stream",
     "text": [
      "Celsius Temperatures: [0.0, 20.0, 37.77777777777778, 100.0]\n"
     ]
    }
   ],
   "source": [
    "#17. Write a program that converts a list of Fahrenheit temperatures to Celsius using a `for` loop.\n",
    "fahrenheit_temperatures = [32, 68, 100, 212] # list for fahernit temp\n",
    "celsius_temperatures = []\n",
    "\n",
    "for fahrenheit in fahrenheit_temperatures:\n",
    "    celsius = (fahrenheit - 32) * 5/9 # formula for converting celcius into faherenheit\n",
    "    celsius_temperatures.append(celsius)\n",
    "\n",
    "print(\"Celsius Temperatures:\", celsius_temperatures) # print the celsius temperatures\n"
   ]
  },
  {
   "cell_type": "code",
   "execution_count": 48,
   "id": "a140dc9f-641a-4101-82a1-b634451d810b",
   "metadata": {},
   "outputs": [
    {
     "name": "stdout",
     "output_type": "stream",
     "text": [
      "Common elements: [3, 4, 5]\n"
     ]
    }
   ],
   "source": [
    "#18. Create a program to print the common elements from two lists using a `for` loop.\n",
    "list1 = [1, 2, 3, 4, 5] # setting of list 1\n",
    "list2 = [3, 4, 5, 6, 7] # setting of list 2\n",
    "common_elements = [] # common elements in list\n",
    "\n",
    "for item in list1:\n",
    "    if item in list2:\n",
    "        common_elements.append(item) # if found in list 1 then append to common elemenst\n",
    "\n",
    "print(\"Common elements:\", common_elements) #print the common elements\n"
   ]
  },
  {
   "cell_type": "code",
   "execution_count": 49,
   "id": "fd648df4-43f6-499b-a9a3-6898b3aa28de",
   "metadata": {},
   "outputs": [
    {
     "name": "stdout",
     "output_type": "stream",
     "text": [
      "* \n",
      "* * \n",
      "* * * \n",
      "* * * * \n",
      "* * * * * \n"
     ]
    }
   ],
   "source": [
    "#19. Develop a program that prints the pattern of right-angled triangles using a `for` loop. Use ‘*’ to draw thepattern\n",
    "for i in range(1, 6): # setting of range value\n",
    "    for j in range(i):\n",
    "        print(\"*\", end=\" \") # print the star values\n",
    "    print()\n"
   ]
  },
  {
   "cell_type": "code",
   "execution_count": 51,
   "id": "a978a395-bf9a-425c-9483-2a9a597e17cc",
   "metadata": {},
   "outputs": [
    {
     "name": "stdin",
     "output_type": "stream",
     "text": [
      "Enter the first number:  45\n",
      "Enter the second number:  55\n"
     ]
    },
    {
     "name": "stdout",
     "output_type": "stream",
     "text": [
      "The GCD of 45 and 55 is 5\n"
     ]
    }
   ],
   "source": [
    "#20. Write a program to find the greatest common divisor (GCD) of two numbers using a `for` loop.\n",
    "def gcd(a, b):\n",
    "    if a < b:\n",
    "        a, b = b, a  # Swap the numbers if a is smaller than b\n",
    "\n",
    "    for i in range(b, 0, -1):\n",
    "        if a % i == 0 and b % i == 0:\n",
    "            return i\n",
    "\n",
    "# Input two numbers\n",
    "num1 = int(input(\"Enter the first number: \"))\n",
    "num2 = int(input(\"Enter the second number: \"))\n",
    "\n",
    "# Calculate the GCD using the gcd function\n",
    "result = gcd(num1, num2)\n",
    "\n",
    "# Display the GCD\n",
    "print(\"The GCD of\", num1, \"and\", num2, \"is\", result)\n",
    "\n"
   ]
  },
  {
   "cell_type": "markdown",
   "id": "6a5266bf-78e3-496f-a11f-1e6ae50e3c4b",
   "metadata": {},
   "source": [
    "Assignment Questions Advanced Level:"
   ]
  },
  {
   "cell_type": "code",
   "execution_count": 52,
   "id": "5b444151-eb5e-4f16-ac3a-e99397464114",
   "metadata": {},
   "outputs": [
    {
     "name": "stdout",
     "output_type": "stream",
     "text": [
      "Sum of digits: [6, 9, 13, 17]\n"
     ]
    }
   ],
   "source": [
    "#21. Create a program that calculates the sum of the digits of numbers in a list using a list comprehension.\n",
    "numbers = [123, 45, 67, 89] # define an list of numbers\n",
    "digit_sum = [sum(int(digit) for digit in str(num)) for num in numbers] #sum of digits for numbers in list\n",
    "print(\"Sum of digits:\", digit_sum)\n"
   ]
  },
  {
   "cell_type": "code",
   "execution_count": 69,
   "id": "39883840-d520-4b0c-8319-056f7161f6b5",
   "metadata": {},
   "outputs": [
    {
     "name": "stdout",
     "output_type": "stream",
     "text": [
      "Prime factors of 36 are: [2, 3]\n"
     ]
    }
   ],
   "source": [
    "#22. Write a program to find the prime factors of a given number using a `for` loop and list comprehension.\n",
    "def is_prime(num): # define an function for prime num\n",
    "    if num <= 1:\n",
    "        return False\n",
    "    for i in range(2, int(num**0.5) + 1): \n",
    "        if num % i == 0:\n",
    "            return False\n",
    "    return True\n",
    "\n",
    "def prime_factors(n): # fedine an function for prime factor\n",
    "    factors = [i for i in range(2, n + 1) if n % i == 0 and is_prime(i)]\n",
    "    return factors\n",
    "\n",
    "number = 36\n",
    "factors = prime_factors(number)\n",
    "print(\"Prime factors of\", number, \"are:\", factors) # print the prime factors of prime number\n"
   ]
  },
  {
   "cell_type": "code",
   "execution_count": 54,
   "id": "3beb5069-487c-4bb4-bf1b-d089238ea47a",
   "metadata": {},
   "outputs": [
    {
     "name": "stdout",
     "output_type": "stream",
     "text": [
      "Unique elements: [1, 2, 3, 4, 5]\n"
     ]
    }
   ],
   "source": [
    "#23. Develop a program that extracts unique elements from a list and stores them in a new list using a list comprehension.\n",
    "original_list = [1, 2, 2, 3, 4, 4, 5, 5] # original list\n",
    "unique_elements = list(set(original_list)) # extracting an original list\n",
    "print(\"Unique elements:\", unique_elements) # print the unique elements\n"
   ]
  },
  {
   "cell_type": "code",
   "execution_count": 55,
   "id": "8b5293c3-13da-426d-89ff-07e2fb111d7c",
   "metadata": {},
   "outputs": [
    {
     "name": "stdout",
     "output_type": "stream",
     "text": [
      "Palindromic numbers up to 100 are: [0, 1, 2, 3, 4, 5, 6, 7, 8, 9, 11, 22, 33, 44, 55, 66, 77, 88, 99]\n"
     ]
    }
   ],
   "source": [
    "#24. Create a program that generates a list of all palindromic numbers up to a specified limit using a list comprehension.\n",
    "limit = 100 # seting of an limit\n",
    "palindromic_numbers = [num for num in range(limit + 1) if str(num) == str(num)[::-1]] #paldromic function for an specified limit\n",
    "print(\"Palindromic numbers up to\", limit, \"are:\", palindromic_numbers) # print palidromic number\n"
   ]
  },
  {
   "cell_type": "code",
   "execution_count": 56,
   "id": "83c38761-4cd3-4dfe-90d0-ed8cb81b2274",
   "metadata": {},
   "outputs": [
    {
     "name": "stdout",
     "output_type": "stream",
     "text": [
      "Flattened list: [1, 2, 3, 4, 5, 6, 7, 8]\n"
     ]
    }
   ],
   "source": [
    "#25. Write a program to flatten a nested list using list comprehension.\n",
    "nested_list = [[1, 2, 3], [4, 5], [6, 7, 8]] #nested kist\n",
    "flattened_list = [item for sublist in nested_list for item in sublist] #  for flatten list\n",
    "print(\"Flattened list:\", flattened_list) # print the flatterned list\n"
   ]
  },
  {
   "cell_type": "code",
   "execution_count": 57,
   "id": "d98b6ff6-dfa5-4e0d-9088-085e2e0ac465",
   "metadata": {},
   "outputs": [
    {
     "name": "stdout",
     "output_type": "stream",
     "text": [
      "Sum of even numbers: 20\n",
      "Sum of odd numbers: 25\n"
     ]
    }
   ],
   "source": [
    "#26. Develop a program that computes the sum of even and odd numbers in a list separately using list comprehension.\n",
    "numbers = [1, 2, 3, 4, 5, 6, 7, 8, 9] # defining of an number\n",
    "sum_even = sum([num for num in numbers if num % 2 == 0]) #sum of even numbers\n",
    "sum_odd = sum([num for num in numbers if num % 2 != 0]) #sum of odd numbers\n",
    "print(\"Sum of even numbers:\", sum_even) #print the sum of even numbers\n",
    "print(\"Sum of odd numbers:\", sum_odd) #print the sum of odd numbers\n"
   ]
  },
  {
   "cell_type": "code",
   "execution_count": 58,
   "id": "1bb520fc-b531-40d9-b79a-2a237212eda2",
   "metadata": {},
   "outputs": [
    {
     "name": "stdout",
     "output_type": "stream",
     "text": [
      "Squares of odd numbers: [1, 9, 25, 49, 81]\n"
     ]
    }
   ],
   "source": [
    "#27. Create a program that generates a list of squares of odd numbers between 1 and 10 using list comprehension.\n",
    "squares_of_odd = [num ** 2 for num in range(1, 11) if num % 2 != 0]\n",
    "print(\"Squares of odd numbers:\", squares_of_odd)\n"
   ]
  },
  {
   "cell_type": "code",
   "execution_count": 59,
   "id": "8ffcf9ee-35b3-4750-90c0-69c2c9d59d35",
   "metadata": {
    "tags": []
   },
   "outputs": [
    {
     "name": "stdout",
     "output_type": "stream",
     "text": [
      "Combined dictionary: {'a': 1, 'b': 2, 'c': 3}\n"
     ]
    }
   ],
   "source": [
    "#28. Write a program that combines two lists into a dictionary using list comprehension.\n",
    "keys = ['a', 'b', 'c']\n",
    "values = [1, 2, 3]\n",
    "combined_dict = {key: value for key, value in zip(keys, values)}\n",
    "print(\"Combined dictionary:\", combined_dict)\n"
   ]
  },
  {
   "cell_type": "code",
   "execution_count": 60,
   "id": "f56570a9-7f5d-48f2-ae95-36a8bac2d989",
   "metadata": {},
   "outputs": [
    {
     "name": "stdout",
     "output_type": "stream",
     "text": [
      "Vowels: ['e', 'o', 'o']\n"
     ]
    }
   ],
   "source": [
    "#29. Develop a program that extracts the vowels from a string and stores them in a list using list comprehension.\n",
    "text = \"Hello, World!\"\n",
    "vowels = [char for char in text if char.lower() in \"aeiou\"]\n",
    "print(\"Vowels:\", vowels)\n"
   ]
  },
  {
   "cell_type": "markdown",
   "id": "842343cf-963e-4a52-9920-bbb7bb5d0162",
   "metadata": {},
   "source": [
    "\n",
    "\n"
   ]
  },
  {
   "cell_type": "code",
   "execution_count": 61,
   "id": "61602245-596e-49d8-9e49-269e6a0fb435",
   "metadata": {},
   "outputs": [
    {
     "name": "stdout",
     "output_type": "stream",
     "text": [
      "Numeric values: ['123', '456', '789', '']\n"
     ]
    }
   ],
   "source": [
    "#30. Create a program that removes all non-numeric characters from a list of strings using list comprehension.\n",
    "string_list = [\"abc123\", \"456def\", \"789\", \"xyz\"] # define a string list\n",
    "numeric_list = [''.join(filter(str.isdigit, string)) for string in string_list]\n",
    "print(\"Numeric values:\", numeric_list)\n"
   ]
  },
  {
   "cell_type": "markdown",
   "id": "0d4cc7ed-7470-4259-ae19-5e15b43fc84b",
   "metadata": {},
   "source": [
    "Assignment Questions Challenge Level:"
   ]
  },
  {
   "cell_type": "code",
   "execution_count": 62,
   "id": "b30984c8-ca5f-4bf2-8c36-dcce10c0ddbf",
   "metadata": {},
   "outputs": [
    {
     "name": "stdout",
     "output_type": "stream",
     "text": [
      "Combinations of two lists: [(1, 'a'), (1, 'b'), (2, 'a'), (2, 'b')]\n"
     ]
    }
   ],
   "source": [
    "#33. Develop a program that generates a list of all possible combinations of two lists using list comprehension.\n",
    "list1 = [1, 2]\n",
    "list2 = ['a', 'b']\n",
    "combinations = [(x, y) for x in list1 for y in list2]\n",
    "print(\"Combinations of two lists:\", combinations)\n"
   ]
  },
  {
   "cell_type": "code",
   "execution_count": 63,
   "id": "e26b4429-4843-4acc-83c2-dcd141079ad8",
   "metadata": {},
   "outputs": [
    {
     "name": "stdout",
     "output_type": "stream",
     "text": [
      "Mean: 3.375\n",
      "Median: 3.5\n",
      "Mode: 5\n"
     ]
    }
   ],
   "source": [
    "#34. Write a program that calculates the mean, median, and mode of a list of numbers using list comprehension.\n",
    "import statistics # import statistics from standard library\n",
    "\n",
    "numbers = [1, 2, 2, 3, 4, 5, 5, 5]\n",
    "mean = statistics.mean(numbers) #for calculating mean\n",
    "median = statistics.median(numbers) # for calculating median\n",
    "mode = statistics.mode(numbers) # for calculating mode\n",
    "print(\"Mean:\", mean) \n",
    "print(\"Median:\", median)\n",
    "print(\"Mode:\", mode)\n"
   ]
  },
  {
   "cell_type": "code",
   "execution_count": 64,
   "id": "4879dd66-f2c2-46cd-bd20-c025f4a1e6e7",
   "metadata": {},
   "outputs": [
    {
     "name": "stdout",
     "output_type": "stream",
     "text": [
      "Sum of digits of factorials: [1, 2, 6, 6, 3]\n"
     ]
    }
   ],
   "source": [
    "#36. Develop a program that calculates the sum of the digits of a factorial of numbers from 1 to 5 using list comprehension.\n",
    "from math import factorial #import factorial  from math function \n",
    "\n",
    "factorial_sums = [sum(int(digit) for digit in str(factorial(num))) for num in range(1, 6)] # calculation of factorial for range 1 to 5\n",
    "print(\"Sum of digits of factorials:\", factorial_sums) # print the sums of factorial\n"
   ]
  },
  {
   "cell_type": "code",
   "execution_count": 65,
   "id": "cee47671-f29e-4f1c-9d11-3384a3444b84",
   "metadata": {},
   "outputs": [
    {
     "name": "stdout",
     "output_type": "stream",
     "text": [
      "Longest word: sentence\n"
     ]
    }
   ],
   "source": [
    "#37. Write a program that finds the longest word in a sentence using list comprehension.\n",
    "sentence = \"This is a sample sentence with some long words.\" # define a sentence\n",
    "words = sentence.split() # spliting of words \n",
    "longest_word = max(words, key=len) # finding the max len word\n",
    "print(\"Longest word:\", longest_word) # print the longest word\n"
   ]
  },
  {
   "cell_type": "code",
   "execution_count": 67,
   "id": "e277b4ba-5fe4-40be-b291-11f5a153c316",
   "metadata": {},
   "outputs": [
    {
     "name": "stdout",
     "output_type": "stream",
     "text": [
      "Sum of the digits of numbers from 1 to 1000: 13501\n"
     ]
    }
   ],
   "source": [
    "#39. Develop a program that calculates the sum of the digits of numbers from 1 to 1000 using list comprehension.\n",
    "\n",
    "def digit_sum(n): # define a function of digit sum\n",
    "    return sum(int(digit) for digit in str(n))\n",
    "\n",
    "sum_of_digit_sums = sum(digit_sum(num) for num in range(1, 1001)) #calculating the sum of digits from 1 to 1000\n",
    "\n",
    "print(\"Sum of the digits of numbers from 1 to 1000:\", sum_of_digit_sums) #print the value of sum of digits\n"
   ]
  },
  {
   "cell_type": "code",
   "execution_count": 68,
   "id": "a22f7e70-b305-4c07-aba2-5fc91c4f869d",
   "metadata": {},
   "outputs": [
    {
     "name": "stdout",
     "output_type": "stream",
     "text": [
      "Prime palindromic numbers up to 1000 are: [2, 3, 5, 7, 11, 101, 131, 151, 181, 191, 313, 353, 373, 383, 727, 757, 787, 797, 919, 929]\n"
     ]
    }
   ],
   "source": [
    "# 40. Write a program that generates a list of prime palindromic numbers using list comprehension.\n",
    "\n",
    "def is_prime(num): #Checks if a number is prime.\n",
    "    if num <= 1:\n",
    "        return False\n",
    "    for i in range(2, int(num**0.5) + 1):\n",
    "        if num % i == 0:\n",
    "            return False\n",
    "    return True\n",
    "\n",
    "def is_palindrome(num): #Checks if a number is a palindrome by comparing its string representation with its reverse.\n",
    "    return str(num) == str(num)[::-1]\n",
    "\n",
    "limit = 1000 #setting of limit for paladromic function\n",
    "prime_palindromic_numbers = [num for num in range(2, limit + 1) if is_prime(num) and is_palindrome(num)]\n",
    "\n",
    "print(\"Prime palindromic numbers up to\", limit, \"are:\", prime_palindromic_numbers) #print the list of prime palindromic numbers up to the specified limit.\n"
   ]
  },
  {
   "cell_type": "code",
   "execution_count": null,
   "id": "42209c91-00c4-4d56-80de-4164b448e4f4",
   "metadata": {},
   "outputs": [],
   "source": []
  }
 ],
 "metadata": {
  "kernelspec": {
   "display_name": "Python 3 (ipykernel)",
   "language": "python",
   "name": "python3"
  },
  "language_info": {
   "codemirror_mode": {
    "name": "ipython",
    "version": 3
   },
   "file_extension": ".py",
   "mimetype": "text/x-python",
   "name": "python",
   "nbconvert_exporter": "python",
   "pygments_lexer": "ipython3",
   "version": "3.10.8"
  }
 },
 "nbformat": 4,
 "nbformat_minor": 5
}
