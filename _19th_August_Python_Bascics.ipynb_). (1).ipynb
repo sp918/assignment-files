{
 "cells": [
  {
   "cell_type": "markdown",
   "id": "1b530a21-6373-4f96-a15e-56e386393f73",
   "metadata": {},
   "source": [
    "Python Basics Variable\n"
   ]
  },
  {
   "cell_type": "code",
   "execution_count": 12,
   "id": "9dbf959d-0006-45ee-b697-00f807e64c89",
   "metadata": {},
   "outputs": [
    {
     "name": "stdout",
     "output_type": "stream",
     "text": [
      "10 5\n"
     ]
    }
   ],
   "source": [
    "#Q-1:-Declare two variables, `x` and `y`, and assign them integer values.Swap the values of these variables without using any temporary variable\n",
    "\n",
    "#Declare of two variables\n",
    "x = 5\n",
    "y = 10\n",
    "\n",
    "#swapping of variables\n",
    "x, y = y, x\n",
    "\n",
    "#print the values after swapping\n",
    "print(x,y) \n",
    "\n",
    "\n"
   ]
  },
  {
   "cell_type": "code",
   "execution_count": 6,
   "id": "aca3d896-355b-4281-913a-b7120231ef0e",
   "metadata": {},
   "outputs": [
    {
     "name": "stdin",
     "output_type": "stream",
     "text": [
      "Enter the length of rectangle 32\n",
      "Enter the breadth of rectangle 45\n"
     ]
    },
    {
     "name": "stdout",
     "output_type": "stream",
     "text": [
      "The area of rectangle is:  1440.0\n"
     ]
    }
   ],
   "source": [
    "#Q-2:- Create a program that calculates the area of a rectangle. Take thelength and width as inputs from the user and store them in variables.Calculate and display the area.\n",
    "\n",
    "#user input for length of side \n",
    "l= float(input(\"Enter the length of rectangle\")) \n",
    "\n",
    "#user input for breadth of side\n",
    "b= float(input(\"Enter the breadth of rectangle\")) \n",
    "\n",
    "# formula for area of rectangle\n",
    "area= l*b  \n",
    "\n",
    "#print the area of rectangle\n",
    "print(\"The area of rectangle is: \",area)"
   ]
  },
  {
   "cell_type": "code",
   "execution_count": 1,
   "id": "e223ef5d-f0d9-466d-a0d3-4f102c187196",
   "metadata": {},
   "outputs": [
    {
     "name": "stdin",
     "output_type": "stream",
     "text": [
      "Enter temperature in Celsius:  45\n"
     ]
    },
    {
     "name": "stdout",
     "output_type": "stream",
     "text": [
      "45.0 degrees Celsius is equal to 113.0 degrees Fahrenheit\n"
     ]
    }
   ],
   "source": [
    "#Q-3:-Write a Python program that converts temperature from Celsius toFahrenheit. Take the temperature in Celsius as input, store it in avariable, convert it to Fahrenheit, and display the result.\n",
    "\n",
    "# Taking temperature in Celsius as input\n",
    "celsius = float(input(\"Enter temperature in Celsius: \"))\n",
    "\n",
    "# Conversion formula: Celsius to Fahrenheit\n",
    "fahrenheit = (celsius * 9/5) + 32\n",
    "\n",
    "# Displaying the result\n",
    "print(f\"{celsius} degrees Celsius is equal to {fahrenheit} degrees Fahrenheit\")"
   ]
  },
  {
   "cell_type": "markdown",
   "id": "8fa85b49-512e-4a80-8353-64530dd422c5",
   "metadata": {},
   "source": [
    "TOPIC: String Based Questions"
   ]
  },
  {
   "cell_type": "code",
   "execution_count": 3,
   "id": "d0afe5a2-749f-45e5-918c-ecfaf64358d8",
   "metadata": {},
   "outputs": [
    {
     "name": "stdin",
     "output_type": "stream",
     "text": [
      "Enter a string:  suyash\n"
     ]
    },
    {
     "name": "stdout",
     "output_type": "stream",
     "text": [
      "The length of the input string is: 6\n"
     ]
    }
   ],
   "source": [
    "#Q-1:-Write a Python program that takes a string as input and prints the length of the string.\n",
    "\n",
    "# Taking input string from the user\n",
    "a = input(\"Enter a string: \")\n",
    "\n",
    "# Calculating and printing the length of the string\n",
    "b= len(a)\n",
    "print(\"The length of the input string is:\", b)\n"
   ]
  },
  {
   "cell_type": "code",
   "execution_count": 5,
   "id": "3e9d2fa1-4ed1-4e2d-b133-bbff950b5194",
   "metadata": {},
   "outputs": [
    {
     "name": "stdin",
     "output_type": "stream",
     "text": [
      "Enter a sentence:  suyash\n"
     ]
    },
    {
     "name": "stdout",
     "output_type": "stream",
     "text": [
      "2\n"
     ]
    }
   ],
   "source": [
    "#Q-2:-Create a program that takes a sentence from the user and counts the number of vowels (a, e, i, o, u) in the string.\n",
    "\n",
    "# Taking input sentence from the user\n",
    "sentence = input(\"Enter a sentence: \")\n",
    "counts=0\n",
    "for i in sentence:\n",
    "    if i in \"AaEeiIOoUu\":\n",
    "        counts+=1\n",
    "print(counts)\n",
    "\n"
   ]
  },
  {
   "cell_type": "code",
   "execution_count": 11,
   "id": "483f904a-8ba5-4e66-89bd-304af20c5b42",
   "metadata": {},
   "outputs": [
    {
     "name": "stdout",
     "output_type": "stream",
     "text": [
      "The reversed string is:  yednap ramuk hsayus\n"
     ]
    }
   ],
   "source": [
    "#Q-3:-Given a string, reverse the order of characters using string slicing and print the reversed string.\n",
    "# string declration\n",
    "a=\"suyash kumar pandey\"\n",
    "\n",
    "# Reversing the string\n",
    "reversed_string = a[::-1]\n",
    "\n",
    "# print the reversed string\n",
    "print(\"The reversed string is: \", reversed_string)\n"
   ]
  },
  {
   "cell_type": "code",
   "execution_count": 8,
   "id": "3f432c56-3c39-4f4b-b89f-7452c6f477ac",
   "metadata": {},
   "outputs": [
    {
     "name": "stdin",
     "output_type": "stream",
     "text": [
      "Enter a string:  hmamama\n"
     ]
    },
    {
     "name": "stdout",
     "output_type": "stream",
     "text": [
      "The input string is not a palindrome.\n"
     ]
    }
   ],
   "source": [
    "#Q-4:- Write a program that takes a string as input and checks if it is a palindrome (reads the same forwards and backwards).\n",
    "\n",
    "# Taking input string from the user\n",
    "input_string = input(\"Enter a string: \")\n",
    "\n",
    "# Reversing the string\n",
    "reversed_string = input_string[::-1]\n",
    "\n",
    "# Checking if the reversed string is equal to the original input string\n",
    "if input_string == reversed_string:\n",
    "    print(\"The input string is a palindrome.\")\n",
    "else:\n",
    "    print(\"The input string is not a palindrome.\")"
   ]
  },
  {
   "cell_type": "code",
   "execution_count": 2,
   "id": "1a208ca6-db2e-4142-83f4-c9cb3f87fe9b",
   "metadata": {},
   "outputs": [
    {
     "name": "stdin",
     "output_type": "stream",
     "text": [
      "Enter a string:  suyash kumar pandey\n"
     ]
    },
    {
     "name": "stdout",
     "output_type": "stream",
     "text": [
      "Modified string without spaces: suyashkumarpandey\n"
     ]
    }
   ],
   "source": [
    "#Q-5:- Create a program that takes a string as input and removes all the spaces from it. Print the modified string without spaces.\n",
    "# Taking input string from the user\n",
    "input_string = input(\"Enter a string: \")\n",
    "\n",
    "# Removing spaces from the string\n",
    "modified_string = input_string.replace(\" \", \"\")\n",
    "\n",
    "# Printing the modified string without spaces\n",
    "print(\"Modified string without spaces:\", modified_string)\n"
   ]
  },
  {
   "cell_type": "code",
   "execution_count": null,
   "id": "0bd1875f-b3b0-40b5-8869-fd5ad8a3090c",
   "metadata": {},
   "outputs": [],
   "source": []
  }
 ],
 "metadata": {
  "kernelspec": {
   "display_name": "Python 3 (ipykernel)",
   "language": "python",
   "name": "python3"
  },
  "language_info": {
   "codemirror_mode": {
    "name": "ipython",
    "version": 3
   },
   "file_extension": ".py",
   "mimetype": "text/x-python",
   "name": "python",
   "nbconvert_exporter": "python",
   "pygments_lexer": "ipython3",
   "version": "3.10.8"
  },
  "toc-autonumbering": false,
  "toc-showcode": false,
  "toc-showmarkdowntxt": true
 },
 "nbformat": 4,
 "nbformat_minor": 5
}
