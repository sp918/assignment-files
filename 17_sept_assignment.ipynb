{
 "cells": [
  {
   "cell_type": "markdown",
   "id": "2cc0ad4e-48a4-406f-8c66-38c5316c674f",
   "metadata": {},
   "source": [
    "For Loop"
   ]
  },
  {
   "cell_type": "code",
   "execution_count": 2,
   "id": "b87aa475-71a6-4230-8eec-2fc8a409a1a9",
   "metadata": {},
   "outputs": [
    {
     "name": "stdout",
     "output_type": "stream",
     "text": [
      "1\n",
      "2\n",
      "3\n",
      "4\n",
      "5\n",
      "6\n",
      "7\n",
      "8\n",
      "9\n",
      "10\n"
     ]
    }
   ],
   "source": [
    "\n",
    "#1.Write a Python program to print numbers from 1 to 10 using a for loop.\n",
    "for i in range(1, 11):\n",
    "    print(i)"
   ]
  },
  {
   "cell_type": "markdown",
   "id": "8379ac98-cddb-4be1-bf95-da3f70625f7a",
   "metadata": {},
   "source": [
    "#2.Explain the difference between a for loop and a while loop in Python.\n",
    "Difference between for loop and while loop:\n",
    "A for loop is used for iterating over a sequence (that can be a list, tuple, string, or range), whereas a while loop is used for executing a set of statements as long as a condition is true.\n",
    "For loops are typically used when the number of iterations is known, while while loops are used when the number of iterations is not known in advance."
   ]
  },
  {
   "cell_type": "code",
   "execution_count": 4,
   "id": "c2273298-1cbb-4cd3-8d93-17bd5ff8e51c",
   "metadata": {},
   "outputs": [
    {
     "name": "stdout",
     "output_type": "stream",
     "text": [
      "Sum: 5050\n"
     ]
    }
   ],
   "source": [
    "#3.Write a Python program to calculate the sum of all numbers from 1 to 100 using a for loop.\n",
    "sum = 0\n",
    "for i in range(1, 101):\n",
    "    sum += i\n",
    "print(\"Sum:\", sum)\n"
   ]
  },
  {
   "cell_type": "code",
   "execution_count": 5,
   "id": "59152578-8f6f-43b7-91d9-5b51c3984fc5",
   "metadata": {},
   "outputs": [
    {
     "name": "stdout",
     "output_type": "stream",
     "text": [
      "1\n",
      "2\n",
      "3\n",
      "4\n",
      "5\n"
     ]
    }
   ],
   "source": [
    "#4.How do you iterate through a list using a for loop in Python?\n",
    "my_list = [1, 2, 3, 4, 5]\n",
    "for item in my_list:\n",
    "    print(item)\n"
   ]
  },
  {
   "cell_type": "code",
   "execution_count": 6,
   "id": "ea1b1f2d-07c7-43f6-9b57-b4c65a1d0384",
   "metadata": {},
   "outputs": [
    {
     "name": "stdout",
     "output_type": "stream",
     "text": [
      "Product: 120\n"
     ]
    }
   ],
   "source": [
    "#5.Write a Python program to find the product of all elements in a list using a for loop.\n",
    "my_list = [1, 2, 3, 4, 5]\n",
    "product = 1\n",
    "for item in my_list:\n",
    "    product *= item\n",
    "print(\"Product:\", product)\n"
   ]
  },
  {
   "cell_type": "code",
   "execution_count": 7,
   "id": "d44dc52d-43ad-4cdd-9549-b05c4fbff57e",
   "metadata": {},
   "outputs": [
    {
     "name": "stdout",
     "output_type": "stream",
     "text": [
      "2\n",
      "4\n",
      "6\n",
      "8\n",
      "10\n",
      "12\n",
      "14\n",
      "16\n",
      "18\n",
      "20\n"
     ]
    }
   ],
   "source": [
    "#6.Create a Python program that prints all even numbers from 1 to 20 using a for loop.\n",
    "for i in range(2, 21, 2):\n",
    "    print(i)\n"
   ]
  },
  {
   "cell_type": "code",
   "execution_count": 8,
   "id": "3723a850-0d8c-47b1-9425-bb9e62ddf59f",
   "metadata": {},
   "outputs": [
    {
     "name": "stdin",
     "output_type": "stream",
     "text": [
      "Enter a number:  5\n"
     ]
    },
    {
     "name": "stdout",
     "output_type": "stream",
     "text": [
      "Factorial: 120\n"
     ]
    }
   ],
   "source": [
    "#7.Write a Python program that calculates the factorial of a number using a for loop.\n",
    "n = int(input(\"Enter a number: \"))\n",
    "factorial = 1\n",
    "for i in range(1, n + 1):\n",
    "    factorial *= i\n",
    "print(\"Factorial:\", factorial)\n"
   ]
  },
  {
   "cell_type": "code",
   "execution_count": 9,
   "id": "f609b7b3-4a63-4737-bc3a-51888b94597d",
   "metadata": {},
   "outputs": [
    {
     "name": "stdout",
     "output_type": "stream",
     "text": [
      "H\n",
      "e\n",
      "l\n",
      "l\n",
      "o\n"
     ]
    }
   ],
   "source": [
    "#8.How can you iterate through the characters of a string using a for loop in Python?\n",
    "my_string = \"Hello\"\n",
    "for char in my_string:\n",
    "    print(char)\n"
   ]
  },
  {
   "cell_type": "code",
   "execution_count": 10,
   "id": "d7d81559-dbfe-48c6-aa95-6879849e1cd6",
   "metadata": {},
   "outputs": [
    {
     "name": "stdout",
     "output_type": "stream",
     "text": [
      "Largest number: 12\n"
     ]
    }
   ],
   "source": [
    "#9.Write a Python program to find the largest number in a list using a for loop.\n",
    "my_list = [3, 1, 7, 12, 5]\n",
    "max_num = my_list[0]\n",
    "for num in my_list:\n",
    "    if num > max_num:\n",
    "        max_num = num\n",
    "print(\"Largest number:\", max_num)\n"
   ]
  },
  {
   "cell_type": "code",
   "execution_count": 11,
   "id": "178862c4-9fdd-4958-a233-8b42f0694e7e",
   "metadata": {},
   "outputs": [
    {
     "name": "stdin",
     "output_type": "stream",
     "text": [
      "Enter the limit:  4\n"
     ]
    },
    {
     "name": "stdout",
     "output_type": "stream",
     "text": [
      "0\n",
      "1\n",
      "1\n",
      "2\n"
     ]
    }
   ],
   "source": [
    "#10.Create a Python program that prints the Fibonacci sequence up to a specified limit using a for loop.\n",
    "limit = int(input(\"Enter the limit: \"))\n",
    "a, b = 0, 1\n",
    "for i in range(limit):\n",
    "    print(a)\n",
    "    a, b = b, a + b\n"
   ]
  },
  {
   "cell_type": "code",
   "execution_count": 12,
   "id": "2c5151a3-a425-4bf8-8f47-10a6138a2fe1",
   "metadata": {},
   "outputs": [
    {
     "name": "stdout",
     "output_type": "stream",
     "text": [
      "Number of vowels: 3\n"
     ]
    }
   ],
   "source": [
    "#11.Write a Python program to count the number of vowels in a given string using a for loop.\n",
    "my_string = \"Hello, World\"\n",
    "vowels = \"AEIOUaeiou\"\n",
    "count = 0\n",
    "for char in my_string:\n",
    "    if char in vowels:\n",
    "        count += 1\n",
    "print(\"Number of vowels:\", count)\n"
   ]
  },
  {
   "cell_type": "code",
   "execution_count": 13,
   "id": "fb3c75a1-34a8-44d6-860a-97087abdb0b3",
   "metadata": {},
   "outputs": [
    {
     "name": "stdin",
     "output_type": "stream",
     "text": [
      "Enter a number:  45\n"
     ]
    },
    {
     "name": "stdout",
     "output_type": "stream",
     "text": [
      "45 x 1 = 45\n",
      "45 x 2 = 90\n",
      "45 x 3 = 135\n",
      "45 x 4 = 180\n",
      "45 x 5 = 225\n",
      "45 x 6 = 270\n",
      "45 x 7 = 315\n",
      "45 x 8 = 360\n",
      "45 x 9 = 405\n",
      "45 x 10 = 450\n"
     ]
    }
   ],
   "source": [
    "#12.Create a Python program that generates a multiplication table for a given number using a for loop.\n",
    "num = int(input(\"Enter a number: \"))\n",
    "for i in range(1, 11):\n",
    "    print(num, \"x\", i, \"=\", num * i)\n"
   ]
  },
  {
   "cell_type": "code",
   "execution_count": 14,
   "id": "3a52538f-e162-44c0-8e89-76a18e852f8d",
   "metadata": {},
   "outputs": [
    {
     "name": "stdout",
     "output_type": "stream",
     "text": [
      "Reversed List: [5, 4, 3, 2, 1]\n"
     ]
    }
   ],
   "source": [
    "#13.Write a Python program to reverse a list using a for loop.\n",
    "my_list = [1, 2, 3, 4, 5]\n",
    "reversed_list = []\n",
    "for item in my_list[::-1]:\n",
    "    reversed_list.append(item)\n",
    "print(\"Reversed List:\", reversed_list)\n"
   ]
  },
  {
   "cell_type": "code",
   "execution_count": 15,
   "id": "010331c5-649e-445d-bd94-a57e8ede98e0",
   "metadata": {},
   "outputs": [
    {
     "name": "stdout",
     "output_type": "stream",
     "text": [
      "Common Elements: [3, 4, 5]\n"
     ]
    }
   ],
   "source": [
    "#14.Write a Python program to find the common elements between two lists using a for loop\n",
    "list1 = [1, 2, 3, 4, 5]\n",
    "list2 = [3, 4, 5, 6, 7]\n",
    "common_elements = []\n",
    "for item in list1:\n",
    "    if item in list2:\n",
    "        common_elements.append(item)\n",
    "print(\"Common Elements:\", common_elements)\n"
   ]
  },
  {
   "cell_type": "code",
   "execution_count": 16,
   "id": "3fe53106-3f48-42cc-89ea-46544e2a16f5",
   "metadata": {},
   "outputs": [
    {
     "name": "stdout",
     "output_type": "stream",
     "text": [
      "A : 1\n",
      "B : 2\n",
      "C : 3\n"
     ]
    }
   ],
   "source": [
    "#15.Explain how to use a for loop to iterate through the keys and values of a dictionary in Python.\n",
    "my_dict = {\"A\": 1, \"B\": 2, \"C\": 3}\n",
    "for key, value in my_dict.items():\n",
    "    print(key, \":\", value)\n"
   ]
  },
  {
   "cell_type": "code",
   "execution_count": 17,
   "id": "8a006f45-717e-46a9-9e41-08a1e1dd0ece",
   "metadata": {},
   "outputs": [
    {
     "name": "stdin",
     "output_type": "stream",
     "text": [
      "Enter first number:  756\n",
      "Enter second number:  4656\n"
     ]
    },
    {
     "name": "stdout",
     "output_type": "stream",
     "text": [
      "GCD: 12\n"
     ]
    }
   ],
   "source": [
    "#16.Write a Python program to find the GCD (Greatest Common Divisor) of two numbers using a for loop.\n",
    "import math\n",
    "\n",
    "a = int(input(\"Enter first number: \"))\n",
    "b = int(input(\"Enter second number: \"))\n",
    "gcd = math.gcd(a, b)\n",
    "print(\"GCD:\", gcd)\n"
   ]
  },
  {
   "cell_type": "code",
   "execution_count": 18,
   "id": "d11f713f-cdbb-4825-b547-00226f9ffbd6",
   "metadata": {},
   "outputs": [
    {
     "name": "stdout",
     "output_type": "stream",
     "text": [
      "Palindrome\n"
     ]
    }
   ],
   "source": [
    "#17.Create a Python program that checks if a string is a palindrome using a for loop.\n",
    "my_string = \"racecar\"\n",
    "is_palindrome = True\n",
    "for i in range(len(my_string)//2):\n",
    "    if my_string[i] != my_string[-(i+1)]:\n",
    "        is_palindrome = False\n",
    "        break\n",
    "if is_palindrome:\n",
    "    print(\"Palindrome\")\n",
    "else:\n",
    "    print(\"Not a palindrome\")\n"
   ]
  },
  {
   "cell_type": "code",
   "execution_count": 22,
   "id": "65439ef4-4d53-44ed-a4e3-717e0511a9e7",
   "metadata": {},
   "outputs": [
    {
     "name": "stdout",
     "output_type": "stream",
     "text": [
      "List with duplicates removed: [1, 2, 3, 4, 5]\n"
     ]
    }
   ],
   "source": [
    "#18.Write a Python program to remove duplicates from a list using a for loop.\n",
    "my_list = [1, 2, 2, 3, 4, 4, 5]\n",
    "unique_list = []\n",
    "for item in my_list:\n",
    "    if item not in unique_list:\n",
    "        unique_list.append(item)\n",
    "print(\"List with duplicates removed:\", unique_list)\n",
    "\n"
   ]
  },
  {
   "cell_type": "code",
   "execution_count": 23,
   "id": "630540fa-9804-466b-894c-fff6cd5bafa4",
   "metadata": {},
   "outputs": [
    {
     "name": "stdout",
     "output_type": "stream",
     "text": [
      "Word count: 5\n"
     ]
    }
   ],
   "source": [
    "#19.Create a Python program that counts the number of words in a sentence using a for loop.\n",
    "sentence = \"This is a sample sentence.\"\n",
    "words = sentence.split()\n",
    "word_count = len(words)\n",
    "print(\"Word count:\", word_count)\n"
   ]
  },
  {
   "cell_type": "code",
   "execution_count": 24,
   "id": "3a2597ed-6f64-4d97-bfa0-014bbfb58806",
   "metadata": {},
   "outputs": [
    {
     "name": "stdout",
     "output_type": "stream",
     "text": [
      "Sum of odd numbers: 625\n"
     ]
    }
   ],
   "source": [
    "#20.Write a Python program to find the sum of all odd numbers from 1 to 50 using a for loop.\n",
    "sum = 0\n",
    "for i in range(1, 51, 2):\n",
    "    sum += i\n",
    "print(\"Sum of odd numbers:\", sum)\n"
   ]
  },
  {
   "cell_type": "code",
   "execution_count": 25,
   "id": "01b52edf-d1c7-4cae-86cf-7a664b4c11fc",
   "metadata": {},
   "outputs": [
    {
     "name": "stdin",
     "output_type": "stream",
     "text": [
      "Enter a year:  2023\n"
     ]
    },
    {
     "name": "stdout",
     "output_type": "stream",
     "text": [
      "Not a leap year\n"
     ]
    }
   ],
   "source": [
    "#21.Write a Python program that checks if a given year is a leap year using a for loop.\n",
    "year = int(input(\"Enter a year: \"))\n",
    "if (year % 4 == 0 and year % 100 != 0) or (year % 400 == 0):\n",
    "    print(\"Leap year\")\n",
    "else:\n",
    "    print(\"Not a leap year\")\n"
   ]
  },
  {
   "cell_type": "code",
   "execution_count": 26,
   "id": "9d9d8bf9-8061-4e48-8cd8-3940b4ea7589",
   "metadata": {},
   "outputs": [
    {
     "name": "stdin",
     "output_type": "stream",
     "text": [
      "Enter a number:  2324\n"
     ]
    },
    {
     "name": "stdout",
     "output_type": "stream",
     "text": [
      "Square root: 48.207883172775794\n"
     ]
    }
   ],
   "source": [
    "#22.Create a Python program that calculates the square root of a number using a for loop.\n",
    "num = float(input(\"Enter a number: \"))\n",
    "guess = num / 2  # Initial guess\n",
    "for i in range(10):  # Adjust the number of iterations for accuracy\n",
    "    guess = (guess + num / guess) / 2\n",
    "print(\"Square root:\", guess)\n"
   ]
  },
  {
   "cell_type": "code",
   "execution_count": 28,
   "id": "6fd731ed-b529-47e6-b1b3-995c6b99a502",
   "metadata": {},
   "outputs": [
    {
     "name": "stdin",
     "output_type": "stream",
     "text": [
      "Enter first number:  34\n",
      "Enter second number:  4445\n"
     ]
    },
    {
     "name": "stdout",
     "output_type": "stream",
     "text": [
      "LCM: 151130\n"
     ]
    }
   ],
   "source": [
    "#23.Write a Python program to find the LCM (Least Common Multiple) of two numbers using a for loop.\n",
    "import math\n",
    "\n",
    "a = int(input(\"Enter first number: \"))\n",
    "b = int(input(\"Enter second number: \"))\n",
    "lcm = abs(a * b) // math.gcd(a, b)\n",
    "print(\"LCM:\", lcm)\n"
   ]
  },
  {
   "cell_type": "markdown",
   "id": "b5781b58-a852-4afa-90e0-d3dcbbaa288a",
   "metadata": {},
   "source": [
    "If else \n"
   ]
  },
  {
   "cell_type": "code",
   "execution_count": 31,
   "id": "73058c62-5e44-4b64-8aaf-4d1ff372d8e4",
   "metadata": {},
   "outputs": [
    {
     "name": "stdin",
     "output_type": "stream",
     "text": [
      "Enter a number:  -45\n"
     ]
    },
    {
     "name": "stdout",
     "output_type": "stream",
     "text": [
      "Negative\n"
     ]
    }
   ],
   "source": [
    "#1.Write a Python program to check if a number is positive, negative, or zero using an if-else statement.\n",
    "\n",
    "\n",
    "num = float(input(\"Enter a number: \"))\n",
    "if num > 0:\n",
    "    print(\"Positive\")\n",
    "elif num < 0:\n",
    "    print(\"Negative\")\n",
    "else:\n",
    "    print(\"Zero\")\n"
   ]
  },
  {
   "cell_type": "code",
   "execution_count": 32,
   "id": "9e8a32b3-8911-4594-896e-d7de6f8703ef",
   "metadata": {},
   "outputs": [
    {
     "name": "stdin",
     "output_type": "stream",
     "text": [
      "Enter a number:  34324434\n"
     ]
    },
    {
     "name": "stdout",
     "output_type": "stream",
     "text": [
      "Even\n"
     ]
    }
   ],
   "source": [
    "#2.Create a Python program that checks if a given number is even or odd using an if-else statement.\n",
    "num = int(input(\"Enter a number: \"))\n",
    "if num % 2 == 0:\n",
    "    print(\"Even\")\n",
    "else:\n",
    "    print(\"Odd\")\n"
   ]
  },
  {
   "cell_type": "code",
   "execution_count": 33,
   "id": "4c9f6543-61e6-41ff-853a-9042798a0408",
   "metadata": {},
   "outputs": [
    {
     "name": "stdin",
     "output_type": "stream",
     "text": [
      "Enter a number:  2434\n"
     ]
    },
    {
     "name": "stdout",
     "output_type": "stream",
     "text": [
      "Positive even number\n"
     ]
    }
   ],
   "source": [
    "#3.How can you use nested if-else statements in Python, and provide an example?\n",
    "num = int(input(\"Enter a number: \"))\n",
    "if num > 0:\n",
    "    if num % 2 == 0:\n",
    "        print(\"Positive even number\")\n",
    "    else:\n",
    "        print(\"Positive odd number\")\n",
    "elif num < 0:\n",
    "    print(\"Negative number\")\n",
    "else:\n",
    "    print(\"Zero\")\n"
   ]
  },
  {
   "cell_type": "code",
   "execution_count": 35,
   "id": "6dd3c9ec-9900-46bb-9b8a-4c5bb32b4c3d",
   "metadata": {},
   "outputs": [
    {
     "name": "stdin",
     "output_type": "stream",
     "text": [
      "Enter first number:  324434\n",
      "Enter second number:  34434\n",
      "Enter third number:  433434\n"
     ]
    },
    {
     "name": "stdout",
     "output_type": "stream",
     "text": [
      "Largest: 433434.0\n"
     ]
    }
   ],
   "source": [
    "#4.Write a Python program to determine the largest of three numbers using if-else.\n",
    "a = float(input(\"Enter first number: \"))\n",
    "b = float(input(\"Enter second number: \"))\n",
    "c = float(input(\"Enter third number: \"))\n",
    "if a >= b and a >= c:\n",
    "    print(\"Largest:\", a)\n",
    "elif b >= a and b >= c:\n",
    "    print(\"Largest:\", b)\n",
    "else:\n",
    "    print(\"Largest:\", c)\n"
   ]
  },
  {
   "cell_type": "code",
   "execution_count": 36,
   "id": "e4d93492-5065-4ee7-a925-b0d28d92c4cf",
   "metadata": {},
   "outputs": [
    {
     "name": "stdin",
     "output_type": "stream",
     "text": [
      "Enter a number:  -78\n"
     ]
    },
    {
     "name": "stdout",
     "output_type": "stream",
     "text": [
      "Absolute value: 78.0\n"
     ]
    }
   ],
   "source": [
    "#5.Write a Python program that calculates the absolute value of a number using if-else.\n",
    "num = float(input(\"Enter a number: \"))\n",
    "if num < 0:\n",
    "    num = -num\n",
    "print(\"Absolute value:\", num)\n"
   ]
  },
  {
   "cell_type": "code",
   "execution_count": 37,
   "id": "bcaa4e21-ca3b-4d43-afc9-11beaaaf55b1",
   "metadata": {},
   "outputs": [
    {
     "name": "stdin",
     "output_type": "stream",
     "text": [
      "Enter a character:  suyash kumar pandey\n"
     ]
    },
    {
     "name": "stdout",
     "output_type": "stream",
     "text": [
      "Consonant\n"
     ]
    }
   ],
   "source": [
    "#6.Create a Python program that checks if a given character is a vowel or consonant using if-else.\n",
    "char = input(\"Enter a character: \").lower()\n",
    "if char in 'aeiou':\n",
    "    print(\"Vowel\")\n",
    "else:\n",
    "    print(\"Consonant\")\n"
   ]
  },
  {
   "cell_type": "code",
   "execution_count": 38,
   "id": "99472291-07c6-4c42-91ff-d1b22a92b209",
   "metadata": {},
   "outputs": [
    {
     "name": "stdin",
     "output_type": "stream",
     "text": [
      "Enter your age:  23\n"
     ]
    },
    {
     "name": "stdout",
     "output_type": "stream",
     "text": [
      "You are eligible to vote\n"
     ]
    }
   ],
   "source": [
    "#7.Write a Python program to determine if a user is eligible to vote based on their age using if-else.\n",
    "age = int(input(\"Enter your age: \"))\n",
    "if age >= 18:\n",
    "    print(\"You are eligible to vote\")\n",
    "else:\n",
    "    print(\"You are not eligible to vote\")\n"
   ]
  },
  {
   "cell_type": "code",
   "execution_count": 40,
   "id": "2feb4bca-5405-40c0-87fe-d1460d76638f",
   "metadata": {},
   "outputs": [
    {
     "name": "stdin",
     "output_type": "stream",
     "text": [
      "Enter the purchase amount:  456666\n"
     ]
    },
    {
     "name": "stdout",
     "output_type": "stream",
     "text": [
      "Discount: 45666.600000000006\n",
      "Final amount: 410999.4\n"
     ]
    }
   ],
   "source": [
    "#8.Create a Python program that calculates the discount amount based on the purchase amount using if-else.\n",
    "purchase_amount = float(input(\"Enter the purchase amount: \"))\n",
    "if purchase_amount > 1000:\n",
    "    discount = 0.1 * purchase_amount\n",
    "else:\n",
    "    discount = 0\n",
    "final_amount = purchase_amount - discount\n",
    "print(\"Discount:\", discount)\n",
    "print(\"Final amount:\", final_amount)\n"
   ]
  },
  {
   "cell_type": "code",
   "execution_count": 41,
   "id": "a3ce7b86-df5d-4da0-9a19-6bfc4349412e",
   "metadata": {},
   "outputs": [
    {
     "name": "stdin",
     "output_type": "stream",
     "text": [
      "Enter a number:  345\n"
     ]
    },
    {
     "name": "stdout",
     "output_type": "stream",
     "text": [
      "Number is outside the range.\n"
     ]
    }
   ],
   "source": [
    "#9.Write a Python program to check if a number is within a specified range using if-else.\n",
    "num = int(input(\"Enter a number: \"))\n",
    "if 10 <= num <= 50:\n",
    "    print(\"Number is within the range.\")\n",
    "else:\n",
    "    print(\"Number is outside the range.\")\n"
   ]
  },
  {
   "cell_type": "code",
   "execution_count": 42,
   "id": "aa704174-b7e5-462e-a50f-9fcfb711aa1c",
   "metadata": {},
   "outputs": [
    {
     "name": "stdin",
     "output_type": "stream",
     "text": [
      "Enter your score:  45\n"
     ]
    },
    {
     "name": "stdout",
     "output_type": "stream",
     "text": [
      "Grade: F\n"
     ]
    }
   ],
   "source": [
    "#10.Create a Python program that determines the grade of a student based on their score using if-else.\n",
    "score = float(input(\"Enter your score: \"))\n",
    "if 90 <= score <= 100:\n",
    "    print(\"Grade: A\")\n",
    "elif 80 <= score < 90:\n",
    "    print(\"Grade: B\")\n",
    "elif 70 <= score < 80:\n",
    "    print(\"Grade: C\")\n",
    "elif 60 <= score < 70:\n",
    "    print(\"Grade: D\")\n",
    "else:\n",
    "    print(\"Grade: F\")\n"
   ]
  },
  {
   "cell_type": "code",
   "execution_count": 45,
   "id": "e186b94a-fcba-4699-b4ba-c8707ef6dc4e",
   "metadata": {},
   "outputs": [
    {
     "name": "stdin",
     "output_type": "stream",
     "text": [
      "Enter a string:  \n"
     ]
    },
    {
     "name": "stdout",
     "output_type": "stream",
     "text": [
      "String is empty\n"
     ]
    }
   ],
   "source": [
    "#11.Write a Python program to check if a string is empty or not using if-else.\n",
    "text = input(\"Enter a string: \")\n",
    "if text:\n",
    "    print(\"String is not empty\")\n",
    "else:\n",
    "    print(\"String is empty\")\n"
   ]
  },
  {
   "cell_type": "code",
   "execution_count": 46,
   "id": "edbcac01-07eb-4fba-8400-b6c22833fa46",
   "metadata": {},
   "outputs": [
    {
     "name": "stdin",
     "output_type": "stream",
     "text": [
      "Enter the length of the first side:  45\n",
      "Enter the length of the second side:  45\n",
      "Enter the length of the third side:  65\n"
     ]
    },
    {
     "name": "stdout",
     "output_type": "stream",
     "text": [
      "Isosceles triangle\n"
     ]
    }
   ],
   "source": [
    "#12.Create a Python program that identifies the type of a triangle (e.g., equilateral, isosceles, or scalene) based on input values using if-else.\n",
    "side1 = float(input(\"Enter the length of the first side: \"))\n",
    "side2 = float(input(\"Enter the length of the second side: \"))\n",
    "side3 = float(input(\"Enter the length of the third side: \"))\n",
    "\n",
    "if side1 == side2 == side3:\n",
    "    print(\"Equilateral triangle\")\n",
    "elif side1 == side2 or side1 == side3 or side2 == side3:\n",
    "    print(\"Isosceles triangle\")\n",
    "else:\n",
    "    print(\"Scalene triangle\")\n"
   ]
  },
  {
   "cell_type": "code",
   "execution_count": 47,
   "id": "7724a949-2a4c-448b-9721-7fba1c031dca",
   "metadata": {},
   "outputs": [
    {
     "name": "stdin",
     "output_type": "stream",
     "text": [
      "Enter a number (1-7) for the day of the week:  6\n"
     ]
    },
    {
     "name": "stdout",
     "output_type": "stream",
     "text": [
      "Saturday\n"
     ]
    }
   ],
   "source": [
    "#13.Write a Python program to determine the day of the week based on a user-provided number using if-else.\n",
    "day_num = int(input(\"Enter a number (1-7) for the day of the week: \"))\n",
    "if day_num == 1:\n",
    "    print(\"Monday\")\n",
    "elif day_num == 2:\n",
    "    print(\"Tuesday\")\n",
    "elif day_num == 3:\n",
    "    print(\"Wednesday\")\n",
    "elif day_num == 4:\n",
    "    print(\"Thursday\")\n",
    "elif day_num == 5:\n",
    "    print(\"Friday\")\n",
    "elif day_num == 6:\n",
    "    print(\"Saturday\")\n",
    "elif day_num == 7:\n",
    "    print(\"Sunday\")\n",
    "else:\n",
    "    print(\"Invalid input\")\n"
   ]
  },
  {
   "cell_type": "code",
   "execution_count": 48,
   "id": "cef57a9d-e08f-4dcb-b3a9-99562bec620e",
   "metadata": {},
   "outputs": [
    {
     "name": "stdin",
     "output_type": "stream",
     "text": [
      "Enter a year:  2024\n"
     ]
    },
    {
     "name": "stdout",
     "output_type": "stream",
     "text": [
      "Leap year\n"
     ]
    }
   ],
   "source": [
    "#14.Create a Python program that checks if a given year is a leap year using both if-else and a function.\n",
    "def is_leap_year(year):\n",
    "    if (year % 4 == 0 and year % 100 != 0) or (year % 400 == 0):\n",
    "        return True\n",
    "    else:\n",
    "        return False\n",
    "\n",
    "year = int(input(\"Enter a year: \"))\n",
    "if is_leap_year(year):\n",
    "    print(\"Leap year\")\n",
    "else:\n",
    "    print(\"Not a leap year\")\n"
   ]
  },
  {
   "cell_type": "code",
   "execution_count": 50,
   "id": "fa8d7fa4-4a51-4a20-af95-84b7552bdefb",
   "metadata": {},
   "outputs": [
    {
     "name": "stdin",
     "output_type": "stream",
     "text": [
      "Enter a number:  45\n"
     ]
    },
    {
     "name": "stdout",
     "output_type": "stream",
     "text": [
      "Positive\n"
     ]
    }
   ],
   "source": [
    "#15.How do you use the \"assert\" statement in Python to add debugging checks within if-else blocks?\n",
    "num = int(input(\"Enter a number: \"))\n",
    "assert num >= 0, \"Number must be non-negative\"\n",
    "if num == 0:\n",
    "    print(\"Zero\")\n",
    "else:\n",
    "    print(\"Positive\")\n"
   ]
  },
  {
   "cell_type": "markdown",
   "id": "265115eb-0b8c-4276-998f-e6543f810c74",
   "metadata": {},
   "source": [
    "Map "
   ]
  },
  {
   "cell_type": "code",
   "execution_count": 55,
   "id": "8b2b9430-82f2-4e18-9562-1921d1a3d584",
   "metadata": {},
   "outputs": [
    {
     "name": "stdout",
     "output_type": "stream",
     "text": [
      "[1, 4, 9, 16, 25]\n"
     ]
    }
   ],
   "source": [
    "#1.Explain the purpose of the `map()` function in Python and provide an example of how it can be used to apply a function to each element of an iterable.\n",
    "\n",
    "#The map() function in Python is used to apply a specified function to each item in an iterable (e.g., a list, tuple, or any iterable) and return a new iterable with the results. It takes two arguments: the function to apply and the iterable to which it should be applied. The purpose of map() is to perform a transformation or operation on each element of the iterable efficiently, without the need for explicit loops.\n",
    "\n",
    "#Here's an example of how the map() function can be used to square each element of a list of numbers:\n",
    "# Using map() to square each element of a list\n",
    "numbers = [1, 2, 3, 4, 5]\n",
    "\n",
    "# Define a function to square a number\n",
    "def square(x):\n",
    "    return x ** 2\n",
    "\n",
    "# Apply the square function to each element of the list using map()\n",
    "squared_numbers = list(map(square, numbers))\n",
    "\n",
    "print(squared_numbers)\n",
    "\n",
    "\n"
   ]
  },
  {
   "cell_type": "code",
   "execution_count": 52,
   "id": "eb533107-a931-4a27-aeb2-0d5785b26979",
   "metadata": {},
   "outputs": [
    {
     "name": "stdout",
     "output_type": "stream",
     "text": [
      "[1, 4, 9, 16, 25]\n"
     ]
    }
   ],
   "source": [
    "#2.Write a Python program that uses the `map()` function to square each element of a list of numbers.\n",
    "# Using map() to square each element of a list\n",
    "numbers = [1, 2, 3, 4, 5]\n",
    "\n",
    "# Define a function to square a number\n",
    "def square(x):\n",
    "    return x ** 2\n",
    "\n",
    "# Apply the square function to each element of the list using map()\n",
    "squared_numbers = list(map(square, numbers))\n",
    "\n",
    "print(squared_numbers)\n"
   ]
  },
  {
   "cell_type": "markdown",
   "id": "6ed165a1-07f5-4b99-b066-cb45bf2ed7b3",
   "metadata": {},
   "source": [
    "#3.How does the `map()` function differ from a list comprehension in Python, and when would you choose one over the other?\n",
    "map() function vs. List Comprehension:\n",
    "Use of Functions: map() applies a specified function to each element of the iterable, while list comprehensions use an expression to create a new list.\n",
    "Readability: List comprehensions are often considered more readable and concise for simple transformations or filtering operations.\n",
    "Generality: map() can be used with any function that takes one argument, making it more versatile. List comprehensions are limited to simple expressions.\n",
    "Performance: In some cases, map() may be slightly faster for applying a function to each element due to internal optimizations.\n",
    "When to Choose One Over the Other:\n",
    "\n",
    "Use map() when you want to apply a specific function to each element of an iterable, especially if the function is complex or needs to be reused.\n",
    "Use list comprehensions when you want to create a new list based on a simple expression or need to filter elements from an iterable.\n",
    "Consider readability and code style when choosing between map() and list comprehensions. List comprehensions are often preferred when the operation is simple and doesn't require a separate function."
   ]
  },
  {
   "cell_type": "code",
   "execution_count": 53,
   "id": "9d60432b-97ab-47fa-b642-1d9597e4e710",
   "metadata": {},
   "outputs": [
    {
     "name": "stdout",
     "output_type": "stream",
     "text": [
      "['ALICE', 'BOB', 'CHARLIE']\n"
     ]
    }
   ],
   "source": [
    "#4.Create a Python program that uses the `map()` function to convert a list of names to uppercase.\n",
    "names = [\"Alice\", \"Bob\", \"Charlie\"]\n",
    "\n",
    "# Define a function to convert a name to uppercase\n",
    "def to_uppercase(name):\n",
    "    return name.upper()\n",
    "\n",
    "# Apply the to_uppercase function to each name in the list\n",
    "uppercase_names = list(map(to_uppercase, names))\n",
    "\n",
    "print(uppercase_names)\n"
   ]
  },
  {
   "cell_type": "code",
   "execution_count": 54,
   "id": "8f0f6abb-8e38-49c0-af32-6a65f8269631",
   "metadata": {},
   "outputs": [
    {
     "name": "stdout",
     "output_type": "stream",
     "text": [
      "[5, 6, 6]\n"
     ]
    }
   ],
   "source": [
    "#5.Write a Python program that uses the `map()` function to calculate the length of each word in a list of strings.\n",
    "words = [\"apple\", \"banana\", \"cherry\"]\n",
    "\n",
    "# Define a function to calculate the length of a word\n",
    "def word_length(word):\n",
    "    return len(word)\n",
    "\n",
    "# Apply the word_length function to each word in the list\n",
    "word_lengths = list(map(word_length, words))\n",
    "\n",
    "print(word_lengths)\n"
   ]
  },
  {
   "cell_type": "markdown",
   "id": "27e74549-7428-4a23-97a1-f401fc901e1d",
   "metadata": {},
   "source": [
    "Reduce "
   ]
  },
  {
   "cell_type": "markdown",
   "id": "f7bc36fa-d4ae-45f5-9e66-ee298412aefd",
   "metadata": {},
   "source": [
    "#1.What is the `reduce()` function in Python, and what module should you import to use it? Provide an example of its basic usage.\n",
    "\n",
    "ans:-The reduce() function in Python is a part of the functools module. To use it, you should import the functools module. The purpose of reduce() is to apply a specified binary function successively to the elements of an iterable, accumulating the result. It's often used to perform cumulative operations on an iterable.\n",
    "\n",
    "\n"
   ]
  },
  {
   "cell_type": "code",
   "execution_count": 2,
   "id": "f0fd1461-0d25-43b5-87f3-2cbb47c238db",
   "metadata": {},
   "outputs": [
    {
     "name": "stdout",
     "output_type": "stream",
     "text": [
      "Product: 120\n"
     ]
    }
   ],
   "source": [
    "#2.Write a Python program that uses the `reduce()` function to find the product of all elements in a list.\n",
    "from functools import reduce\n",
    "\n",
    "# Define a binary function to multiply two numbers\n",
    "def multiply(x, y):\n",
    "    return x * y\n",
    "\n",
    "# List of numbers\n",
    "numbers = [1, 2, 3, 4, 5]\n",
    "\n",
    "# Use reduce() to find the product of all numbers\n",
    "product = reduce(multiply, numbers)\n",
    "\n",
    "print(\"Product:\", product)\n"
   ]
  },
  {
   "cell_type": "code",
   "execution_count": 3,
   "id": "b9263fbd-9ad9-4e4e-b378-3879ca94a0cb",
   "metadata": {},
   "outputs": [
    {
     "name": "stdout",
     "output_type": "stream",
     "text": [
      "Maximum: 9\n"
     ]
    }
   ],
   "source": [
    "#3.Create a Python program that uses `reduce()` to find the maximum element in a list of numbers.\n",
    "from functools import reduce\n",
    "\n",
    "# Define a binary function to find the maximum of two numbers\n",
    "def maximum(x, y):\n",
    "    return x if x > y else y\n",
    "\n",
    "# List of numbers\n",
    "numbers = [3, 6, 1, 8, 4, 9, 2]\n",
    "\n",
    "# Use reduce() to find the maximum element\n",
    "max_element = reduce(maximum, numbers)\n",
    "\n",
    "print(\"Maximum:\", max_element)\n"
   ]
  },
  {
   "cell_type": "code",
   "execution_count": 4,
   "id": "24ca6c4b-ff13-4ac7-8014-ec20a6aac337",
   "metadata": {},
   "outputs": [
    {
     "name": "stdout",
     "output_type": "stream",
     "text": [
      "Concatenated string: Hello, world! This is a test.\n"
     ]
    }
   ],
   "source": [
    "#4.How can you use the `reduce()` function to concatenate a list of strings into a single string?\n",
    "from functools import reduce\n",
    "\n",
    "# Define a binary function to concatenate two strings\n",
    "def concatenate_strings(x, y):\n",
    "    return x + y\n",
    "\n",
    "# List of strings\n",
    "strings = [\"Hello, \", \"world\", \"!\", \" This is a test.\"]\n",
    "\n",
    "# Use reduce() to concatenate the strings\n",
    "concatenated_string = reduce(concatenate_strings, strings)\n",
    "\n",
    "print(\"Concatenated string:\", concatenated_string)\n"
   ]
  },
  {
   "cell_type": "code",
   "execution_count": 5,
   "id": "18f5b8b9-4155-4158-86a3-e9bbe4645af8",
   "metadata": {},
   "outputs": [
    {
     "name": "stdout",
     "output_type": "stream",
     "text": [
      "Factorial of 5 is 120\n"
     ]
    }
   ],
   "source": [
    "#5.Write a Python program that calculates the factorial of a number using the `reduce()` function.\n",
    "from functools import reduce\n",
    "\n",
    "# Define a binary function to calculate the factorial of a number\n",
    "def factorial(x, y):\n",
    "    return x * y\n",
    "\n",
    "# Number for which to calculate the factorial\n",
    "n = 5\n",
    "\n",
    "# Use reduce() to calculate the factorial\n",
    "factorial_result = reduce(factorial, range(1, n + 1))\n",
    "\n",
    "print(\"Factorial of\", n, \"is\", factorial_result)\n"
   ]
  },
  {
   "cell_type": "markdown",
   "id": "a80a18aa-74ca-497c-b2e7-5c5e0e7a4772",
   "metadata": {},
   "source": [
    "Recursion:-\n"
   ]
  },
  {
   "cell_type": "markdown",
   "id": "659e4180-52f1-46bd-9bf6-0b1e3be8b95e",
   "metadata": {},
   "source": [
    "#1.Explain the concept of recursion in Python. How does it differ from iteration?\n",
    "\n",
    "Recursion in Python is a programming concept where a function calls itself in order to solve a problem. Recursive functions break down a problem into smaller, more manageable subproblems, and each recursive call works on a smaller instance of the same problem until a base case is reached, at which point the recursion stops.\n",
    "\n",
    "Recursion differs from iteration in that it uses function calls to solve problems by breaking them down into smaller instances, while iteration uses loops to repeatedly execute a block of code until a certain condition is met. Both recursion and iteration can be used to solve the same types of problems, but recursion is often chosen when the problem can be naturally divided into smaller, similar subproblems.\n",
    "\n",
    "\n"
   ]
  },
  {
   "cell_type": "code",
   "execution_count": 6,
   "id": "b44d7680-03ee-461e-a43b-73877de62800",
   "metadata": {},
   "outputs": [
    {
     "name": "stdin",
     "output_type": "stream",
     "text": [
      "Enter a number:  45\n"
     ]
    },
    {
     "name": "stdout",
     "output_type": "stream",
     "text": [
      "Factorial of 45 is 119622220865480194561963161495657715064383733760000000000\n"
     ]
    }
   ],
   "source": [
    "#2.Write a Python program to calculate the factorial of a number using recursion.\n",
    "def factorial(n):\n",
    "    if n == 0:\n",
    "        return 1\n",
    "    else:\n",
    "        return n * factorial(n - 1)\n",
    "\n",
    "num = int(input(\"Enter a number: \"))\n",
    "result = factorial(num)\n",
    "print(f\"Factorial of {num} is {result}\")\n"
   ]
  },
  {
   "cell_type": "code",
   "execution_count": null,
   "id": "9c583d3c-e707-4950-afc9-eadc8791b62d",
   "metadata": {},
   "outputs": [
    {
     "name": "stdin",
     "output_type": "stream",
     "text": [
      "Enter a positive integer:  45\n"
     ]
    }
   ],
   "source": [
    "#3.Create a recursive Python function to find the nth Fibonacci number.\n",
    "def fibonacci(n):\n",
    "    if n <= 0:\n",
    "        return 0\n",
    "    elif n == 1:\n",
    "        return 1\n",
    "    else:\n",
    "        return fibonacci(n - 1) + fibonacci(n - 2)\n",
    "\n",
    "n = int(input(\"Enter a positive integer: \"))\n",
    "result = fibonacci(n)\n",
    "print(f\"The {n}th Fibonacci number is {result}\")\n"
   ]
  },
  {
   "cell_type": "code",
   "execution_count": 1,
   "id": "292b30b1-57ca-4662-b0a7-3701ba4b7d69",
   "metadata": {},
   "outputs": [
    {
     "name": "stdout",
     "output_type": "stream",
     "text": [
      "Sum of elements in the list: 15\n"
     ]
    }
   ],
   "source": [
    "#4.Write a recursive Python function to calculate the sum of all elements in a list.\n",
    "def sum_list(lst):\n",
    "    if not lst:\n",
    "        return 0\n",
    "    else:\n",
    "        return lst[0] + sum_list(lst[1:])\n",
    "\n",
    "my_list = [1, 2, 3, 4, 5]\n",
    "result = sum_list(my_list)\n",
    "print(f\"Sum of elements in the list: {result}\")\n"
   ]
  },
  {
   "cell_type": "markdown",
   "id": "ac645fc3-6dac-4b73-b794-c936d7b10152",
   "metadata": {},
   "source": [
    "#5.How can you prevent a recursive function from running indefinitely, causing a stack overflow error?\n",
    "Preventing a recursive function from running indefinitely:\n",
    "\n",
    "To prevent a recursive function from running indefinitely and causing a stack overflow error, you should ensure that there is a termination condition, also known as a \"base case,\" that will eventually be met. In each recursive call, the problem should get closer to the base case, ensuring that the recursion stops.\n",
    "\n",
    "For example, in the recursive factorial function (factorial(n)), the base case is when n becomes 0. Without this base case, the recursion would continue indefinitely.\n",
    "\n",
    "Additionally, you can use proper input validation to ensure that the input to your recursive function is within a valid range, preventing invalid inputs that might lead to infinite recursion.\n",
    "\n",
    "It's important to design your recursive functions with a clear understanding of when and how they will terminate to avoid infinite recursion.\n",
    "\n",
    "Recursion is a powerful tool in programming, but it must be used carefully to avoid stack overflow errors and ensure that the base case is correctly defined to stop the recursion."
   ]
  },
  {
   "cell_type": "markdown",
   "id": "b792e415-a50e-415d-9922-ab634de106bb",
   "metadata": {},
   "source": [
    "Basics of Functions:\n"
   ]
  },
  {
   "cell_type": "markdown",
   "id": "6a73ac1d-9f7c-4555-8ff7-064d60a6a86f",
   "metadata": {},
   "source": [
    "#1.What is a function in Python, and why is it used?\n",
    "In Python, a function is a reusable block of code that performs a specific task or set of tasks. Functions are used to encapsulate a sequence of statements into a single unit, making code more organized, modular, and easier to understand. They promote code reusability and help avoid redundancy by allowing you to call the same set of instructions multiple times with different inputs.\n",
    "\n"
   ]
  },
  {
   "cell_type": "code",
   "execution_count": 3,
   "id": "a36e99bf-ca19-435d-884c-0c6579d55b48",
   "metadata": {},
   "outputs": [],
   "source": [
    "#2.How do you define a function in Python? Provide an example.\n",
    "#A function in Python is defined using the def keyword, followed by the function name, a pair of parentheses (), and a colon :. The function definition may include a docstring (a string that provides documentation for the function), followed by the code block that contains the function's instructions.\n",
    "\n",
    "#Here's an example of defining a simple function to add two numbers:\n",
    "def add_numbers(x, y):\n",
    "    \"\"\"\n",
    "    This function adds two numbers and returns the result.\n",
    "    \"\"\"\n",
    "    result = x + y\n",
    "    return result\n"
   ]
  },
  {
   "cell_type": "markdown",
   "id": "a3560e6c-01af-4aec-ba4f-6bf9153b1b4d",
   "metadata": {},
   "source": [
    "#3.Explain the difference between a function definition and a function call.\n",
    "Function Definition: A function definition is where you define the structure and behavior of a function. It includes the def keyword, function name, parameters (if any), and the code block that specifies what the function does. The function definition does not execute the function but defines how it should behave when called.\n",
    "\n",
    "Function Call: A function call is when you invoke or execute a function to perform a specific task. It includes the function name followed by parentheses, where you may provide arguments (input values) if the function expects them. The function call triggers the execution of the code within the function definition."
   ]
  },
  {
   "cell_type": "code",
   "execution_count": 4,
   "id": "f8cf96bd-cadd-4462-89ad-7ba6a8fb4c3c",
   "metadata": {},
   "outputs": [
    {
     "name": "stdout",
     "output_type": "stream",
     "text": [
      "The sum of 5 and 7 is 12\n"
     ]
    }
   ],
   "source": [
    "#4.Write a Python program that defines a function to calculate the sum of two numbers and then calls the function.\n",
    "def add_numbers(x, y):\n",
    "    \"\"\"\n",
    "    This function adds two numbers and returns the result.\n",
    "    \"\"\"\n",
    "    result = x + y\n",
    "    return result\n",
    "\n",
    "# Function call\n",
    "num1 = 5\n",
    "num2 = 7\n",
    "sum_result = add_numbers(num1, num2)\n",
    "\n",
    "print(f\"The sum of {num1} and {num2} is {sum_result}\")\n"
   ]
  },
  {
   "cell_type": "markdown",
   "id": "e8b6fda2-668a-45ca-b359-caf5fb0b5a08",
   "metadata": {},
   "source": [
    "#5.What is a function signature, and what information does it typically include?\n",
    "A function signature, also known as a function header, includes essential information about a function. It typically consists of the following elements:\n",
    "\n",
    "Function Name: The name of the function, which uniquely identifies it.\n",
    "Parameters (if any): The input values or variables that the function expects. These are enclosed in parentheses and separated by commas.\n",
    "Return Type: The data type of the value that the function returns (if any). It is usually specified using a colon and an arrow (->) followed by the data type.\n",
    "For example, in the function signature def add_numbers(x: int, y: int) -> int, the function name is add_numbers, it expects two integer parameters (x and y), and it returns an integer (int). The function signature is crucial for understanding how to use the function correctly."
   ]
  },
  {
   "cell_type": "code",
   "execution_count": 5,
   "id": "cf7d25b5-344d-47d6-b66e-7bdf8c39c3e1",
   "metadata": {},
   "outputs": [],
   "source": [
    "#6.Create a Python function that takes two arguments and returns their product.\n",
    "def multiply(x, y):\n",
    "    \"\"\"\n",
    "    This function multiplies two numbers and returns the result.\n",
    "    \"\"\"\n",
    "    result = x * y\n",
    "    return result\n"
   ]
  },
  {
   "cell_type": "code",
   "execution_count": 6,
   "id": "25a780dd-8613-46c2-9530-b8f0c9178dfb",
   "metadata": {},
   "outputs": [
    {
     "name": "stdout",
     "output_type": "stream",
     "text": [
      "The product of 4 and 6 is 24\n"
     ]
    }
   ],
   "source": [
    "num1 = 4\n",
    "num2 = 6\n",
    "product_result = multiply(num1, num2)\n",
    "print(f\"The product of {num1} and {num2} is {product_result}\")\n"
   ]
  },
  {
   "cell_type": "markdown",
   "id": "1745823f-a051-4c45-a24b-611dde12eeef",
   "metadata": {},
   "source": [
    "Built-in Functions:"
   ]
  },
  {
   "cell_type": "code",
   "execution_count": 9,
   "id": "fe2a6f61-6a85-4825-8022-a4f5e7b1d5cc",
   "metadata": {},
   "outputs": [],
   "source": [
    "\n",
    "#1Describe the role of built-in functions like `len()`, `max()`, and `min()` in Python.\n",
    "#len(): The len() function is used to determine the length (number of elements) of an iterable such as a string, list, or tuple. It returns an integer representing the number of items in the iterable.'''\n",
    "text = \"Hello, world!\"\n",
    "length = len(text)  \n",
    "\n",
    "#max(): The max() function is used to find the maximum value among the elements in an iterable or a set of arguments. It returns the largest item in the given input.\n",
    "\n",
    "#Example:\n",
    "numbers = [4, 7, 2, 9, 5]\n",
    "maximum = max(numbers)  \n",
    "#min(): The min() function is used to find the minimum value among the elements in an iterable or a set of arguments. It returns the smallest item in the given input.\n",
    "\n",
    "#Example:\n",
    "numbers = [4, 7, 2, 9, 5]\n",
    "minimum = min(numbers)  \n",
    "\n",
    "\n"
   ]
  },
  {
   "cell_type": "code",
   "execution_count": 10,
   "id": "9874ad00-f2be-4625-84af-932326530d7c",
   "metadata": {},
   "outputs": [
    {
     "name": "stdout",
     "output_type": "stream",
     "text": [
      "Original Numbers: [1, 2, 3, 4, 5]\n",
      "Squared Numbers: [1, 4, 9, 16, 25]\n"
     ]
    }
   ],
   "source": [
    "#2Write a Python program that uses the `map()` function to apply a function to each element of a list.\n",
    "# Define a function to square a number\n",
    "def square(x):\n",
    "    return x ** 2\n",
    "\n",
    "# List of numbers\n",
    "numbers = [1, 2, 3, 4, 5]\n",
    "\n",
    "# Use the map() function to apply the square function to each element\n",
    "squared_numbers = list(map(square, numbers))\n",
    "\n",
    "# Print the result\n",
    "print(\"Original Numbers:\", numbers)\n",
    "print(\"Squared Numbers:\", squared_numbers)\n"
   ]
  },
  {
   "cell_type": "markdown",
   "id": "af0e2b1f-e96b-45a4-822e-67cbb2ceb2aa",
   "metadata": {},
   "source": [
    "#3.How does the `filter()` function work in Python, and when would you use it?\n",
    "The filter() function in Python is used to filter elements from an iterable (such as a list, tuple, or any other iterable) based on a specified filtering function, often referred to as a \"predicate\" function. It creates a new iterable that contains only the elements for which the filtering function returns True. Essentially, it selectively includes elements from the original iterable that meet a specific condition.\n",
    "\n",
    "Here's how the filter() function works:\n",
    "\n",
    "You define a filtering function (predicate) that takes one argument and returns either True or False. This function defines the condition based on which elements will be included or excluded from the result.\n",
    "\n",
    "You pass this filtering function and the iterable you want to filter as arguments to the filter() function.\n",
    "\n",
    "The filter() function iterates through each element in the iterable and applies the filtering function to it.\n",
    "\n",
    "If the filtering function returns True for an element, that element is included in the result. If it returns False, the element is excluded.\n",
    "\n",
    "The filter() function returns an iterable (specifically, an iterator) that contains only the elements that passed the filtering condition.\n",
    "\n",
    "You would use the filter() function when you need to perform the following tasks:\n",
    "\n",
    "Selectively filter elements from a list or iterable based on a specific condition.\n",
    "Create a new iterable containing elements that satisfy a certain criteria.\n",
    "Avoid writing explicit loops for filtering and reduce code complexity."
   ]
  },
  {
   "cell_type": "code",
   "execution_count": 11,
   "id": "01d41b73-1248-41f3-a6b5-872ef92c24a4",
   "metadata": {},
   "outputs": [
    {
     "name": "stdout",
     "output_type": "stream",
     "text": [
      "Numbers: [2, 3, 4, 5]\n",
      "Product of Numbers: 120\n"
     ]
    }
   ],
   "source": [
    "#4.Create a Python program that uses the `reduce()` function to find the product of all elements in a list.\n",
    "from functools import reduce\n",
    "\n",
    "# Define a function to multiply two numbers\n",
    "def multiply(x, y):\n",
    "    return x * y\n",
    "\n",
    "# List of numbers\n",
    "numbers = [2, 3, 4, 5]\n",
    "\n",
    "# Use the reduce() function to find the product of all elements\n",
    "product = reduce(multiply, numbers)\n",
    "\n",
    "# Print the result\n",
    "print(\"Numbers:\", numbers)\n",
    "print(\"Product of Numbers:\", product)\n"
   ]
  },
  {
   "cell_type": "markdown",
   "id": "7a829440-ea3e-47a6-9cf1-405295c87d6f",
   "metadata": {},
   "source": [
    "Function Documentation and Best Practices:\n"
   ]
  },
  {
   "cell_type": "code",
   "execution_count": 12,
   "id": "f50c4ff7-ef89-4354-ab82-bdda44e18216",
   "metadata": {},
   "outputs": [],
   "source": [
    "#1.Explain the purpose of docstrings in Python functions and how to write them.\n",
    "#Purpose of Docstrings:\n",
    "\n",
    "#Docstrings in Python functions are used to provide documentation and descriptions of what the function does, its parameters, and return values. They serve as a form of inline documentation to help developers and users understand how to use the function effectively.\n",
    "\n",
    "#To write a docstring, enclose a multi-line string within triple quotes (''' or \"\"\") immediately after the function definition. Here's an example:\n",
    "def add(x, y):\n",
    "    \"\"\"\n",
    "    This function adds two numbers and returns the result.\n",
    "\n",
    "    Parameters:\n",
    "    x (int): The first number.\n",
    "    y (int): The second number.\n",
    "\n",
    "    Returns:\n",
    "    int: The sum of x and y.\n",
    "    \"\"\"\n",
    "    result = x + y\n",
    "    return result\n"
   ]
  },
  {
   "cell_type": "code",
   "execution_count": null,
   "id": "55030332-95ad-4591-8143-4b6a95d84709",
   "metadata": {},
   "outputs": [],
   "source": [
    "#2.Describe some best practices for naming functions and variables in Python, including naming conventions and guidelines.\n"
   ]
  },
  {
   "cell_type": "code",
   "execution_count": null,
   "id": "2f1f2ca8-86af-49c7-a428-85a527e5dee6",
   "metadata": {},
   "outputs": [],
   "source": []
  },
  {
   "cell_type": "code",
   "execution_count": null,
   "id": "5a628f25-8cc5-453f-83f9-ee20c803f363",
   "metadata": {},
   "outputs": [],
   "source": []
  },
  {
   "cell_type": "code",
   "execution_count": null,
   "id": "634f17f0-46d5-44ab-8648-5793846cf156",
   "metadata": {},
   "outputs": [],
   "source": []
  },
  {
   "cell_type": "code",
   "execution_count": null,
   "id": "fc0e2cab-2e08-4300-ab18-6ca11df1b8a8",
   "metadata": {},
   "outputs": [],
   "source": []
  },
  {
   "cell_type": "code",
   "execution_count": null,
   "id": "14869450-6783-4e08-acb9-089fad67dd11",
   "metadata": {},
   "outputs": [],
   "source": []
  },
  {
   "cell_type": "code",
   "execution_count": null,
   "id": "0a1be7fb-4968-40fd-875c-308841cde63f",
   "metadata": {},
   "outputs": [],
   "source": []
  },
  {
   "cell_type": "code",
   "execution_count": null,
   "id": "43b781bb-7dfe-431e-897c-fa3f40176a29",
   "metadata": {},
   "outputs": [],
   "source": []
  },
  {
   "cell_type": "code",
   "execution_count": null,
   "id": "3a0e9e40-56c7-47ba-b95f-d0e7255ade73",
   "metadata": {},
   "outputs": [],
   "source": []
  },
  {
   "cell_type": "code",
   "execution_count": null,
   "id": "eb3bdc30-6d46-4f7f-82e6-7910f9902202",
   "metadata": {},
   "outputs": [],
   "source": []
  },
  {
   "cell_type": "code",
   "execution_count": null,
   "id": "f898faf9-a7d9-46a9-abb0-b719674b506f",
   "metadata": {},
   "outputs": [],
   "source": []
  },
  {
   "cell_type": "code",
   "execution_count": null,
   "id": "a8a45844-e75f-46ae-8de7-eafccec19d08",
   "metadata": {},
   "outputs": [],
   "source": []
  },
  {
   "cell_type": "code",
   "execution_count": null,
   "id": "b3b78c64-964b-453b-9ed7-c2afc57dd9fc",
   "metadata": {},
   "outputs": [],
   "source": []
  },
  {
   "cell_type": "code",
   "execution_count": null,
   "id": "29e7d6a0-f505-4ec0-bfe6-4e67bda9bb50",
   "metadata": {},
   "outputs": [],
   "source": []
  },
  {
   "cell_type": "code",
   "execution_count": null,
   "id": "94c5b05f-1c15-46da-b988-1e2232363bb5",
   "metadata": {},
   "outputs": [],
   "source": []
  },
  {
   "cell_type": "code",
   "execution_count": null,
   "id": "09ebbf44-5e6a-4192-9085-75a2a183b9a2",
   "metadata": {},
   "outputs": [],
   "source": []
  },
  {
   "cell_type": "code",
   "execution_count": null,
   "id": "dd084e73-13d7-4d86-9855-ab2a4d1cc529",
   "metadata": {},
   "outputs": [],
   "source": []
  },
  {
   "cell_type": "code",
   "execution_count": null,
   "id": "69520df7-779d-4119-a7b8-33cc75ac9bbc",
   "metadata": {},
   "outputs": [],
   "source": []
  },
  {
   "cell_type": "code",
   "execution_count": null,
   "id": "9ad86e55-7bef-4ca0-86e5-93fd9a4f337e",
   "metadata": {},
   "outputs": [],
   "source": []
  },
  {
   "cell_type": "code",
   "execution_count": null,
   "id": "7067ab23-b480-48b5-9f9e-9762c7a5525a",
   "metadata": {},
   "outputs": [],
   "source": []
  },
  {
   "cell_type": "code",
   "execution_count": null,
   "id": "598a463f-4f51-4568-ab80-4931afa92755",
   "metadata": {},
   "outputs": [],
   "source": []
  },
  {
   "cell_type": "code",
   "execution_count": null,
   "id": "a7c5aec3-774c-48e6-b8ca-f1c9c34565b1",
   "metadata": {},
   "outputs": [],
   "source": []
  },
  {
   "cell_type": "code",
   "execution_count": null,
   "id": "4a4c56d9-d6e0-4b9f-9494-1f24b6913ca2",
   "metadata": {},
   "outputs": [],
   "source": []
  },
  {
   "cell_type": "code",
   "execution_count": null,
   "id": "b8f7c863-55b3-474b-811e-2540be19c119",
   "metadata": {},
   "outputs": [],
   "source": []
  },
  {
   "cell_type": "code",
   "execution_count": null,
   "id": "3b09703c-8acc-4643-bcf6-d1dd81dc0093",
   "metadata": {},
   "outputs": [],
   "source": []
  },
  {
   "cell_type": "code",
   "execution_count": null,
   "id": "1e1c0a02-d2f7-4acc-9e4a-069447ed2923",
   "metadata": {},
   "outputs": [],
   "source": []
  },
  {
   "cell_type": "code",
   "execution_count": null,
   "id": "7ce8eefe-a182-4f35-b503-52536baa63f2",
   "metadata": {},
   "outputs": [],
   "source": []
  },
  {
   "cell_type": "code",
   "execution_count": null,
   "id": "d8d21e6a-74f2-40dd-b6cf-e6a9fed426a9",
   "metadata": {},
   "outputs": [],
   "source": []
  },
  {
   "cell_type": "code",
   "execution_count": null,
   "id": "fcc9af74-4494-4be6-a1c8-134ffed824a9",
   "metadata": {},
   "outputs": [],
   "source": []
  },
  {
   "cell_type": "code",
   "execution_count": null,
   "id": "244dd909-4b42-4b7c-9b03-f4298c09b33f",
   "metadata": {},
   "outputs": [],
   "source": []
  },
  {
   "cell_type": "code",
   "execution_count": null,
   "id": "cf4b6829-7e9d-4ba8-9915-39c77afdab2f",
   "metadata": {},
   "outputs": [],
   "source": []
  },
  {
   "cell_type": "code",
   "execution_count": null,
   "id": "467715e9-23b2-42d0-8e50-5b225ab7f681",
   "metadata": {},
   "outputs": [],
   "source": []
  },
  {
   "cell_type": "code",
   "execution_count": null,
   "id": "50d919f7-0a0b-4f29-838c-cbd6a5ee0999",
   "metadata": {},
   "outputs": [],
   "source": []
  },
  {
   "cell_type": "code",
   "execution_count": null,
   "id": "4aaed2ca-e0f0-4605-88ce-4b5bf920c724",
   "metadata": {},
   "outputs": [],
   "source": []
  },
  {
   "cell_type": "code",
   "execution_count": null,
   "id": "0932761c-09e6-4467-affd-931ca44c2ea7",
   "metadata": {},
   "outputs": [],
   "source": []
  },
  {
   "cell_type": "code",
   "execution_count": null,
   "id": "1af2f8a7-7793-40cc-807e-730071aaa95c",
   "metadata": {},
   "outputs": [],
   "source": []
  },
  {
   "cell_type": "code",
   "execution_count": null,
   "id": "82d13899-bd03-48d6-9a0e-ca419a6f390a",
   "metadata": {},
   "outputs": [],
   "source": []
  },
  {
   "cell_type": "code",
   "execution_count": null,
   "id": "d4cd5142-9675-4bfb-9e4d-7e53df511b2d",
   "metadata": {},
   "outputs": [],
   "source": []
  },
  {
   "cell_type": "code",
   "execution_count": null,
   "id": "e4dd38e3-57b3-4c32-9a65-da378f1eeb53",
   "metadata": {},
   "outputs": [],
   "source": []
  },
  {
   "cell_type": "code",
   "execution_count": null,
   "id": "55b36e8b-6274-44ed-9b76-f69d5f7787aa",
   "metadata": {},
   "outputs": [],
   "source": []
  },
  {
   "cell_type": "code",
   "execution_count": null,
   "id": "6b713eaf-acb6-4b43-9e69-0b3ab72c77ce",
   "metadata": {},
   "outputs": [],
   "source": []
  }
 ],
 "metadata": {
  "kernelspec": {
   "display_name": "Python 3 (ipykernel)",
   "language": "python",
   "name": "python3"
  },
  "language_info": {
   "codemirror_mode": {
    "name": "ipython",
    "version": 3
   },
   "file_extension": ".py",
   "mimetype": "text/x-python",
   "name": "python",
   "nbconvert_exporter": "python",
   "pygments_lexer": "ipython3",
   "version": "3.10.8"
  }
 },
 "nbformat": 4,
 "nbformat_minor": 5
}
